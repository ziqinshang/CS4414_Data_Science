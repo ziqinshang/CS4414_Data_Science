{
 "cells": [
  {
   "cell_type": "code",
   "execution_count": 1,
   "metadata": {},
   "outputs": [],
   "source": [
    "# This defines a function that plots the X for three classes \n",
    "# and updates the plot\n",
    "from IPython.display import clear_output\n",
    "from matplotlib import pyplot as plt\n",
    "from sklearn.metrics import accuracy_score\n",
    "import collections\n",
    "%matplotlib inline\n",
    "\n",
    "def live_plot(X, y, figsize=(7,5), title=''):\n",
    "    clear_output(wait=True)\n",
    "    plt.figure(figsize=figsize)\n",
    "    plt.scatter(X[y==0,0], X[y==0,1], color='red')\n",
    "    plt.scatter(X[y==1,0], X[y==1,1], color='blue')\n",
    "    plt.title(title)\n",
    "    plt.show()"
   ]
  },
  {
   "cell_type": "code",
   "execution_count": 2,
   "metadata": {},
   "outputs": [],
   "source": [
    "# Import pytorch - \n",
    "# If you are in an Anaconda environment, you can use: \n",
    "# conda install pytorch torchvision -c pytorch\n",
    "import numpy as np\n",
    "import torch\n",
    "import pandas as pd\n",
    "from sklearn.datasets import make_blobs, make_circles"
   ]
  },
  {
   "cell_type": "code",
   "execution_count": 3,
   "metadata": {},
   "outputs": [],
   "source": [
    "# Make a circle data set \n",
    "X, y = make_circles(random_state=0, noise=0.02)"
   ]
  },
  {
   "cell_type": "code",
   "execution_count": 4,
   "metadata": {},
   "outputs": [
    {
     "data": {
      "image/png": "[encoded data removed]",
      "text/plain": [
       "<Figure size 432x288 with 1 Axes>"
      ]
     },
     "metadata": {
      "needs_background": "light"
     },
     "output_type": "display_data"
    }
   ],
   "source": [
    "# And plot it. \n",
    "plt.scatter(X[y==0,0], X[y==0,1], color='red')\n",
    "plt.scatter(X[y==1,0], X[y==1,1], color='blue')\n",
    "plt.show()"
   ]
  },
  {
   "cell_type": "code",
   "execution_count": 5,
   "metadata": {},
   "outputs": [],
   "source": [
    "# Now define a network with one hidden layer\n",
    "# with 40 units and logistic non-linearity\n",
    "\n",
    "class NonLinearModel(torch.nn.Module):\n",
    "    \n",
    "    def __init__(self, input_size, num_classes, max_iter=1000, lr=1e-3):\n",
    "        \n",
    "        super().__init__()\n",
    "        \n",
    "        # Neural Network Architecture: 40 hidden units \n",
    "        self.dense1 = torch.nn.Linear(in_features=num_features, out_features=20*num_classes)\n",
    "        self.activation1 = torch.nn.LogSigmoid()\n",
    "        self.dense2 = torch.nn.Linear(in_features=20*num_classes, out_features=num_classes)\n",
    "        self.activation2 = torch.nn.LogSigmoid()\n",
    "        \n",
    "    def forward(self, X):\n",
    "        X = self.dense1(X)  \n",
    "        X = self.activation1(X)\n",
    "        X = self.dense2(X)\n",
    "        X = self.activation2(X)\n",
    "        return X"
   ]
  },
  {
   "cell_type": "code",
   "execution_count": 6,
   "metadata": {},
   "outputs": [
    {
     "data": {
      "image/png": "[encoded data removed]",
      "text/plain": [
       "<Figure size 504x360 with 1 Axes>"
      ]
     },
     "metadata": {
      "needs_background": "light"
     },
     "output_type": "display_data"
    }
   ],
   "source": [
    "num_features = X.shape[1]\n",
    "num_classes = 2\n",
    "max_iter = 100000\n",
    "model = NonLinearModel(num_features, num_classes)\n",
    "optimizer = torch.optim.SGD(model.parameters(), lr=1e-2)\n",
    "criterion = torch.nn.CrossEntropyLoss()\n",
    "\n",
    "Xt = torch.FloatTensor(X)\n",
    "yt = torch.LongTensor(y)\n",
    "\n",
    "for i in range(max_iter):\n",
    "    optimizer.zero_grad()\n",
    "    y_pred = model(Xt)\n",
    "    loss = criterion(input=y_pred, target=yt)\n",
    "    loss.backward()\n",
    "    optimizer.step()\n",
    "    if i % 100 == 0:\n",
    "        with torch.no_grad():\n",
    "            live_plot(y_pred.detach().numpy(), y, title=f\"Loss at epoch {i}: {loss.item():.4f}\")"
   ]
  },
  {
   "cell_type": "code",
   "execution_count": null,
   "metadata": {},
   "outputs": [],
   "source": [
    "with torch.no_grad():\n",
    "    y_pred = model.forward(Xt)\n",
    "    y_pred = torch.argmax(y_pred, dim=1).detach().numpy()\n",
    "    print(f\"Classifier Accuracy: {accuracy_score(y_true=y, y_pred=y_pred) * 100}%\")"
   ]
  },
  {
   "cell_type": "code",
   "execution_count": null,
   "metadata": {},
   "outputs": [],
   "source": [
    "# Get acuracy on noisier test set \n",
    "X, y = make_circles(random_state=1, noise=0.06)\n",
    "plt.scatter(X[y==0].T[0], X[y==0].T[1], color='red')\n",
    "plt.scatter(X[y==1].T[0], X[y==1].T[1], color='blue')\n",
    "plt.scatter(X[y==2].T[0], X[y==2].T[1], color='green')\n",
    "plt.show()"
   ]
  },
  {
   "cell_type": "code",
   "execution_count": null,
   "metadata": {},
   "outputs": [],
   "source": [
    "Xt = torch.Tensor(X)\n",
    "with torch.no_grad():\n",
    "    y_pred = model(Xt)\n",
    "    y_pred = torch.argmax(y_pred, dim=1).detach().numpy()\n",
    "    print(f\"Classifier Accuracy: {accuracy_score(y_true=y, y_pred=y_pred) * 100}%\")"
   ]
  },
  {
   "cell_type": "code",
   "execution_count": null,
   "metadata": {},
   "outputs": [],
   "source": []
  }
 ],
 "metadata": {
  "kernelspec": {
   "display_name": "Python 3",
   "language": "python",
   "name": "python3"
  },
  "language_info": {
   "codemirror_mode": {
    "name": "ipython",
    "version": 3
   },
   "file_extension": ".py",
   "mimetype": "text/x-python",
   "name": "python",
   "nbconvert_exporter": "python",
   "pygments_lexer": "ipython3",
   "version": "3.8.5"
  }
 },
 "nbformat": 4,
 "nbformat_minor": 4
}
