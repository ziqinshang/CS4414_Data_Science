{
 "cells": [
  {
   "cell_type": "markdown",
   "metadata": {},
   "source": [
    "# Ridge regression and Dummy coding\n",
    "This notebook demonstrates why we have to be careful about what type of dummy coding to choose when we use Ridge regression to estimate a linear model. Without Regularization, we usually do not introduce redundant (linear dependent) regressors, as it makes the estimation unstable. As you will see, when using Ridge regression, the choice of dummy coding can have unintended consequences."
   ]
  },
  {
   "cell_type": "markdown",
   "metadata": {},
   "source": [
    "## The example\n",
    "Consider the simple example, where you measured some data (y) for individuals that belong to three groups, each one containing N=5 observations. I know, I know, this is a criminally low sample size, but it is simply an illustrative example, and what you see here also holds in large data sets, both with balanced and unbalanced designs. "
   ]
  },
  {
   "cell_type": "code",
   "execution_count": 2,
   "metadata": {},
   "outputs": [],
   "source": [
    "# Preliminaries\n",
    "import numpy as np\n",
    "import pandas as pd \n",
    "import sklearn as sk\n",
    "from sklearn.linear_model import LinearRegression, Ridge\n",
    "import seaborn as sb \n",
    "import matplotlib.pyplot as plt"
   ]
  },
  {
   "cell_type": "code",
   "execution_count": 3,
   "metadata": {},
   "outputs": [
    {
     "data": {
      "text/plain": [
       "<AxesSubplot:xlabel='group', ylabel='y'>"
      ]
     },
     "execution_count": 3,
     "metadata": {},
     "output_type": "execute_result"
    },
    {
     "data": {
      "image/png": "[encoded data removed]",
      "text/plain": [
       "<Figure size 432x288 with 1 Axes>"
      ]
     },
     "metadata": {
      "needs_background": "light"
     },
     "output_type": "display_data"
    }
   ],
   "source": [
    "# Let's make an example where group 1 has mean 3 and the other two groups mean 8.\n",
    "D=pd.DataFrame({'group':[1,1,1,1,1,2,2,2,2,2,3,3,3,3,3],'y':[1,2,3,4,5,6,7,8,9,10,11,12,13,14,15]})\n",
    "sb.barplot(data=D,x='group',y='y')"
   ]
  },
  {
   "cell_type": "code",
   "execution_count": 4,
   "metadata": {},
   "outputs": [],
   "source": [
    "# Now let's dummy code the group in four different ways \n",
    "X = pd.get_dummies(D['group'],drop_first=False).values # Full dummy code with a dummy variable for each group \n",
    "X1 = X[:,1:3]   # Drop the first group \n",
    "X2 = X[:,[0,2]] # Drop the second group \n",
    "X3 = X[:,:2]    # Drop the last group "
   ]
  },
  {
   "cell_type": "code",
   "execution_count": 5,
   "metadata": {},
   "outputs": [],
   "source": [
    "# For each coding scheme, let's also get a matrix that allows us to predict the 3 group means \n",
    "Xpred  = X[[0,5,11],:]\n",
    "Xpred1 = X1[[0,5,11],:]\n",
    "Xpred2 = X2[[0,5,11],:]\n",
    "Xpred3 = X3[[0,5,11],:]"
   ]
  },
  {
   "cell_type": "code",
   "execution_count": 6,
   "metadata": {
    "scrolled": true
   },
   "outputs": [
    {
     "data": {
      "text/plain": [
       "array([ 3.,  8., 13.])"
      ]
     },
     "execution_count": 6,
     "metadata": {},
     "output_type": "execute_result"
    }
   ],
   "source": [
    "# When using ordinary least-squares, it does not matter which coding you use - you always get the group mean exactly.  \n",
    "# You can even use the full dummy coded variable, although this makes the variance of the regression coefficients infinite. \n",
    "OLS = LinearRegression().fit(X1,D['y'])\n",
    "ypred_OLS=OLS.predict(Xpred1)\n",
    "ypred_OLS"
   ]
  },
  {
   "cell_type": "code",
   "execution_count": 7,
   "metadata": {},
   "outputs": [
    {
     "data": {
      "text/plain": [
       "array([ 4.875     ,  7.47916667, 11.64583333])"
      ]
     },
     "execution_count": 7,
     "metadata": {},
     "output_type": "execute_result"
    }
   ],
   "source": [
    "# Now let's use the different dummy coding schemes for Ridge regression, using a Ridge coefficient of 1\n",
    "# First the first one: \n",
    "R1 = Ridge(alpha = 1)\n",
    "R1.fit(X1,D['y'])\n",
    "ypred_R1=R1.predict(Xpred1)\n",
    "ypred_R1"
   ]
  },
  {
   "cell_type": "code",
   "execution_count": 8,
   "metadata": {},
   "outputs": [
    {
     "data": {
      "text/plain": [
       "array([ 3.83333333,  8.        , 12.16666667])"
      ]
     },
     "execution_count": 8,
     "metadata": {},
     "output_type": "execute_result"
    }
   ],
   "source": [
    "# Then dropping the middle group  \n",
    "R2 = Ridge(alpha = 1)\n",
    "R2.fit(X2,D['y'])\n",
    "ypred_R2=R2.predict(Xpred2)\n",
    "ypred_R2"
   ]
  },
  {
   "cell_type": "code",
   "execution_count": 9,
   "metadata": {},
   "outputs": [
    {
     "data": {
      "text/plain": [
       "array([ 4.35416667,  8.52083333, 11.125     ])"
      ]
     },
     "execution_count": 9,
     "metadata": {},
     "output_type": "execute_result"
    }
   ],
   "source": [
    "# And finally dropping the third group\n",
    "R3 = Ridge(alpha = 1)\n",
    "R3.fit(X3,D['y'])\n",
    "ypred_R3=R3.predict(Xpred3)\n",
    "ypred_R3"
   ]
  },
  {
   "cell_type": "code",
   "execution_count": 10,
   "metadata": {},
   "outputs": [
    {
     "data": {
      "text/plain": [
       "<matplotlib.legend.Legend at 0x1a17d70c50>"
      ]
     },
     "execution_count": 10,
     "metadata": {},
     "output_type": "execute_result"
    },
    {
     "data": {
      "image/png": "[encoded data removed]",
      "text/plain": [
       "<Figure size 432x288 with 1 Axes>"
      ]
     },
     "metadata": {
      "needs_background": "light"
     },
     "output_type": "display_data"
    }
   ],
   "source": [
    "# Now let's plot the different predicted groups means, \n",
    "# An in comparision show \n",
    "\n",
    "h1 = plt.plot([0,1,2],np.c_[ypred_R1,ypred_R2,ypred_R3])\n",
    "h2 = plt.plot([0,1,2],ypred_OLS,'k:')\n",
    "plt.legend(h2+h1,('OLS','Ridge1','Ridge2','Ridge3'))"
   ]
  },
  {
   "cell_type": "markdown",
   "metadata": {},
   "source": [
    "As we can see, the different ways of dummy coding induce different predicted values. The predicted groups means are usually \"shrunken\" towards the overall mean of the data. However, depending on coding scheme this can happen to various degrees, and for the middle group in different directions! "
   ]
  },
  {
   "cell_type": "markdown",
   "metadata": {},
   "source": [
    "## What is going on? \n",
    "To understand how this behavior comes about (and how to fix it), it is useful to understand Ridge regression as estimating the best linear unbiased predictor (BLUP) for the following mixed effects model (Robinson, 1991).\n",
    "\n",
    "$$ \\mathbf{y} = \\mathbf{X} \\beta +\\mathbf{Zu}+ \\boldsymbol{\\epsilon} $$\n",
    "\n",
    "In this case, $\\mathbf{X}$ is just a columns of 1s and $\\beta$ is the intercept. $\\mathbf{Z}$ is the design matrix that encodes the $q$ random effects. The coefficients for the random effects, $\\mathbf{u}$, are assumed to the normally distributed with $N(\\mathbf{0},\\mathbf{I_q}\\sigma^2$). That is, the multliple regressions coefficients are assumed to have the same variance $\\sigma^2$, and are independent from each other. The noise $\\epsilon$ is assumed to have normal distribution with $N(\\mathbf{0},\\mathbf{I_N}\\sigma_{\\epsilon}^2)$. \n",
    "\n",
    "In this situation, Ridge regression is the BLUP estimator if we set the ridge parameter to \n",
    "$\\lambda = \\sigma_{\\epsilon}^2 / \\sigma^2$. In other words, the optimal regularization is low when the noise is low and the true effects are large - the optimal regularization is high when the noise is high and the true effects are small. \n",
    "\n",
    "Sklearns ridge regression first removes the mean from $\\mathbf{y}$ and $\\mathbf{Z}$\n",
    "\n",
    "$$ \\tilde{\\mathbf{y}} = \\mathbf{y}- \\mathbf{X}(\\mathbf{X}^T \\mathbf{X})^{-1} \\mathbf{X}^T \\mathbf{y}$$ \n",
    "$$ \\tilde{\\mathbf{Z}} = \\mathbf{Z}- \\mathbf{X}(\\mathbf{X}^T \\mathbf{X})^{-1} \\mathbf{X}^T \\mathbf{Z}$$ \n",
    "\n",
    "And then estimates the coefficients for the random effects with \n",
    "\n",
    "$$ \\hat{\\mathbf{u}} = (\\tilde{\\mathbf{Z}}^T  \\tilde{\\mathbf{Z}} + \\mathbf{I}_N \\lambda)^{-1} \\tilde{\\mathbf{Z}}^T \\mathbf{y}$$ \n",
    "\n",
    "So Ridge regression leads to the BLUP estimate, if we assume that the variance of the data, conditioned on the overall mean, is: \n",
    "\n",
    "$$ var(\\mathbf{y} | \\beta) = \\mathbf{Z} \\mathbf{Z}^T \\sigma^2 + \\mathbf{I}_N \\sigma_{\\epsilon}^2$$\n",
    "\n",
    "As we will see below, the 3 different ways of dummy coding correspond to three different assumptions about the variability of the data. \n",
    "\n",
    "Side note: The variance of the estimators is given by \n",
    "$$ var(\\hat{\\mathbf{u}} | \\beta) = (\\mathbf{Z}^T \\mathbf{Z} + \\mathbf{I}_q \\lambda)^{-1} \\sigma_{\\epsilon}^2$$\n",
    "and therefore doesn't explode, even if  $\\mathbf{Z}^T \\mathbf{Z}$ is not positive definite.  \n"
   ]
  },
  {
   "cell_type": "code",
   "execution_count": 11,
   "metadata": {},
   "outputs": [
    {
     "data": {
      "text/plain": [
       "<matplotlib.image.AxesImage at 0x1a182dccd0>"
      ]
     },
     "execution_count": 11,
     "metadata": {},
     "output_type": "execute_result"
    },
    {
     "data": {
      "image/png": "[encoded data removed]",
      "text/plain": [
       "<Figure size 432x288 with 3 Axes>"
      ]
     },
     "metadata": {
      "needs_background": "light"
     },
     "output_type": "display_data"
    }
   ],
   "source": [
    "Z1 = X1 - X1.mean(axis=0) # Center the three design matrices \n",
    "Z2 = X2 - X2.mean(axis=0) \n",
    "Z3 = X3 - X3.mean(axis=0)\n",
    "\n",
    "# Now calculate the assumed variance of the data: \n",
    "V1 = Z1 @ Z1.T + np.eye(15) # Both sigma's are 1, as lambda=1 \n",
    "V2 = Z2 @ Z2.T + np.eye(15) # Both sigma's are 1, as lambda=1 \n",
    "V3 = Z3 @ Z3.T + np.eye(15) # Both sigma's are 1, as lambda=1 \n",
    "plt.subplot(2,2,1)\n",
    "plt.imshow(V1)\n",
    "plt.subplot(2,2,2)\n",
    "plt.imshow(V2)\n",
    "plt.subplot(2,2,3)\n",
    "plt.imshow(V3)\n"
   ]
  },
  {
   "cell_type": "markdown",
   "metadata": {},
   "source": [
    "As you can see, the two groups that are included in the dummy coding are assumed to have a negative covariance with each other.... \n",
    "\n",
    "Now what if don't want to assume this strange co-dependence structure in the data? Most reasonably, we would say that the observations in each group have the same variance, and within group share the smae covariance. \n"
   ]
  },
  {
   "cell_type": "code",
   "execution_count": 12,
   "metadata": {},
   "outputs": [
    {
     "data": {
      "text/plain": [
       "<matplotlib.image.AxesImage at 0x1a1826db50>"
      ]
     },
     "execution_count": 12,
     "metadata": {},
     "output_type": "execute_result"
    },
    {
     "data": {
      "image/png": "[encoded data removed]",
      "text/plain": [
       "<Figure size 432x288 with 1 Axes>"
      ]
     },
     "metadata": {
      "needs_background": "light"
     },
     "output_type": "display_data"
    }
   ],
   "source": [
    "Z = X - X.mean(axis=0)\n",
    "# Now calculate the assumed variance of the data: \n",
    "V = Z @ Z.T + np.eye(15) # Both sigma's are 1, as lambda=1 \n",
    "plt.imshow(V)"
   ]
  },
  {
   "cell_type": "markdown",
   "metadata": {},
   "source": [
    "## And how to fix it\n",
    "If we don't want to assume a specific covariance structure between the group means, we need to conduct the ridge regression with a fully (redundantly) coded dummy variable.  "
   ]
  },
  {
   "cell_type": "code",
   "execution_count": 13,
   "metadata": {},
   "outputs": [
    {
     "data": {
      "text/plain": [
       "array([ 4.875,  8.   , 11.125])"
      ]
     },
     "execution_count": 13,
     "metadata": {},
     "output_type": "execute_result"
    }
   ],
   "source": [
    "# So, to use this assumption, we need to conduct Ridge regression with the full dummy-coded design matrix. \n",
    "# Now we have 3 regressors, instead of two. To achieve a similar amount of shrinkage, we need to \n",
    "# therefor increase our Ridge coefficient a bit.   \n",
    "R = Ridge(alpha = 3)\n",
    "R.fit(X,D['y'])\n",
    "ypred_R=R.predict(Xpred)\n",
    "ypred_R"
   ]
  },
  {
   "cell_type": "code",
   "execution_count": 14,
   "metadata": {},
   "outputs": [
    {
     "data": {
      "text/plain": [
       "<matplotlib.legend.Legend at 0x1a182afbd0>"
      ]
     },
     "execution_count": 14,
     "metadata": {},
     "output_type": "execute_result"
    },
    {
     "data": {
      "image/png": "[encoded data removed]",
      "text/plain": [
       "<Figure size 432x288 with 1 Axes>"
      ]
     },
     "metadata": {
      "needs_background": "light"
     },
     "output_type": "display_data"
    }
   ],
   "source": [
    "# As you can see, the Ridge regression does exactly the expected thing: \n",
    "# It shrinks the extreme groups towards the group mean - but doesn't shrink the \n",
    "# Group which has the mean on the group. \n",
    "\n",
    "h1 = plt.plot([0,1,2],np.c_[ypred_R1,ypred_R2,ypred_R3])\n",
    "h2 = plt.plot([0,1,2],ypred_OLS,'k:')\n",
    "h3 = plt.plot([0,1,2],ypred_R,'k-')\n",
    "plt.legend(h2+h1+h3,('OLS','Ridge1','Ridge2','Ridge3','Ridge with full coding'))"
   ]
  },
  {
   "cell_type": "code",
   "execution_count": null,
   "metadata": {},
   "outputs": [],
   "source": []
  }
 ],
 "metadata": {
  "kernelspec": {
   "display_name": "Python 3",
   "language": "python",
   "name": "python3"
  },
  "language_info": {
   "codemirror_mode": {
    "name": "ipython",
    "version": 3
   },
   "file_extension": ".py",
   "mimetype": "text/x-python",
   "name": "python",
   "nbconvert_exporter": "python",
   "pygments_lexer": "ipython3",
   "version": "3.8.5"
  }
 },
 "nbformat": 4,
 "nbformat_minor": 4
}
