{
 "cells": [
  {
   "cell_type": "markdown",
   "metadata": {},
   "source": [
    "# Grade: /100 points\n",
    "\n",
    "# Assignment 01: Supervised learning, Linear models, and Loss functions\n",
    "\n",
    "In this assignment, you're going to write your own methods to fit a linear model using either an OLS or LAD cost function.  \n",
    "\n",
    "## Data set \n",
    "\n",
    "For this assignment, we will examine some data representing possums in Australia and New Guinea. The data frame contains 46 observations on the following 6 variables:\n",
    "\n",
    "* sex: Sex, either m (male) or f (female).\n",
    "* age: Age in years.\n",
    "* headL: Head length, in mm.\n",
    "* skullW: Skull width, in mm.\n",
    "* totalL: Total length, in cm.\n",
    "* tailL: Tail length, in cm.\n",
    "\n",
    "## Follow These Steps Before Submitting\n",
    "Once you are finished, ensure to complete the following steps.\n",
    "\n",
    "1.  Restart your kernel by clicking 'Kernel' > 'Restart & Run All'.\n",
    "\n",
    "2.  Fix any errors which result from this.\n",
    "\n",
    "3.  Repeat steps 1. and 2. until your notebook runs without errors.\n",
    "\n",
    "4.  Submit your completed notebook to OWL by the deadline.\n",
    "\n",
    "\n",
    "## Preliminaries"
   ]
  },
  {
   "cell_type": "code",
   "execution_count": null,
   "metadata": {},
   "outputs": [],
   "source": [
    "# Import all the necessary packages: \n",
    "import matplotlib.pyplot as plt \n",
    "import numpy as np\n",
    "import pandas as pd\n",
    "import scipy.stats as ss \n",
    "import scipy.optimize as so\n",
    "from sklearn import linear_model\n",
    "\n",
    "%matplotlib inline"
   ]
  },
  {
   "cell_type": "markdown",
   "metadata": {},
   "source": [
    "\n",
    "## Part 1\n",
    "### Question 1.1:  /10 points\n",
    "\n",
    "\n",
    "Read in the `possum.csv` file as a `pandas.DataFrame`.  Investigate the relationship between the possum's age and its tail length by plotting a scatter plot of the `age` and `tailL` columns. Add an `alpha`(transparency of the plotted dots) in case some data are overlapping. "
   ]
  },
  {
   "cell_type": "code",
   "execution_count": 3,
   "metadata": {},
   "outputs": [
    {
     "data": {
      "text/plain": [
       "<function matplotlib.pyplot.show(close=None, block=None)>"
      ]
     },
     "execution_count": 3,
     "metadata": {},
     "output_type": "execute_result"
    },
    {
     "data": {
      "image/png": "[encoded data removed]",
      "text/plain": [
       "<Figure size 432x288 with 1 Axes>"
      ]
     },
     "metadata": {
      "needs_background": "light"
     },
     "output_type": "display_data"
    }
   ],
   "source": [
    "# Import all the necessary packages: \n",
    "import matplotlib.pyplot as plt \n",
    "import numpy as np\n",
    "import pandas as pd\n",
    "import scipy.stats as ss \n",
    "import scipy.optimize as so\n",
    "from sklearn import linear_model\n",
    "\n",
    "%matplotlib inline\n",
    "# Read in the data with pandas\n",
    "possum_data = pd.read_csv('~/Desktop/A1/possum.csv')\n",
    "\n",
    "# Make the scatter plot (don't forget the axis labels)\n",
    "possum_data.plot(x='age',y='tailL',kind='scatter')\n",
    "plt.title('age vs tailL')\n",
    "plt.show"
   ]
  },
  {
   "cell_type": "markdown",
   "metadata": {},
   "source": [
    "### Question 1.2: /5 point\n",
    "\n",
    "Recall that the linear model, we obtain predictions by computing \n",
    "\n",
    "$$ \\hat{\\mathbf{y}} = \\mathbf{X} \\hat{\\beta} $$\n",
    "\n",
    "Here, $\\mathbf{X}$ is a design matrix which includes a column of ones, $\\hat{\\beta}$ are coefficients, and $\\hat{\\mathbf{y}}$ are outcomes.  Write a function `linearModelPredict` to compute linear model predictions given data and a coefficient vector.  The function should take as it's arguments a 1d-array of coefficients `b` and the design matrix `X` as a 2d-array and return linear model predictions `yp`.\n",
    "\n",
    "Test the function by setting \n",
    "\n",
    "```\n",
    "X = np.array([[1,0],[1,-1],[1,2]])\n",
    "b = np.array([0.1,0.3])\n",
    "```\n",
    "and call your function with these values! \n",
    "\n",
    "Report $\\hat{\\mathbf{y}}$. \n",
    "What is the dimensionality of the numpy-array that you get back? \n",
    "\n",
    "Hint:  Read the documentation for `np.dot` or the `@` operator in `numpy`."
   ]
  },
  {
   "cell_type": "code",
   "execution_count": 4,
   "metadata": {},
   "outputs": [
    {
     "data": {
      "text/plain": [
       "array([ 0.1, -0.2,  0.7])"
      ]
     },
     "execution_count": 4,
     "metadata": {},
     "output_type": "execute_result"
    }
   ],
   "source": [
    "def linearModelPredict(b,X):\n",
    "    yp = np.dot(X,b)\n",
    "    return yp\n",
    "\n",
    "# Always important: Test the new function you have written! \n",
    "X = np.array([[1,0],[1,-1],[1,2]])\n",
    "b = np.array([0.1,0.3])\n",
    "linearModelPredict(b,X)\n",
    "# By the way: What happens when b is a 2d-array? \n",
    "\n"
   ]
  },
  {
   "cell_type": "markdown",
   "metadata": {},
   "source": [
    "### Question 1.3: /15 points\n",
    "\n",
    "Write a function `linearModelLossRSS` which computes and returns the loss function for an OLS model parameterized by $\\beta$, as well as the gradient of the loss.  The function should take as its first argument a 1d-array `beta` of coefficients for the linear model, as its second argument the design matrix `X` as a 2d-array, and as its third argument a 1d-array `y` of observed outcomes.\n",
    "\n",
    "Test the function with the values \n",
    "\n",
    "```\n",
    "X = np.array([[1,0],[1,-1],[1,2]])\n",
    "b = np.array([0.1,0.3])\n",
    "y = np.array([0,0.4,2]) \n",
    "```\n",
    "\n",
    "Report the loss and the gradient. \n",
    "\n",
    "**Written answer**: To minimize the cost do you need increase or decrease the value of the parameters? "
   ]
  },
  {
   "cell_type": "code",
   "execution_count": 48,
   "metadata": {},
   "outputs": [
    {
     "data": {
      "text/plain": [
       "(2.06, array([-3.6, -4. ]))"
      ]
     },
     "execution_count": 48,
     "metadata": {},
     "output_type": "execute_result"
    }
   ],
   "source": [
    "def linearModelLossRSS(b,X,y):\n",
    "    predY = linearModelPredict(b,X)\n",
    "    residual_sum_of_squares = 0\n",
    "    restmp = []\n",
    "    for i in range(len(predY)):\n",
    "        res = y[i] - predY[i]\n",
    "        restmp.append(res)\n",
    "        residual_sum_of_squares = residual_sum_of_squares + pow(res,2)\n",
    "    gradient = -2* np.dot(X.T,restmp)\n",
    "    return (residual_sum_of_squares, gradient)\n",
    "\n",
    "X = np.array([[1,0],[1,-1],[1,2]])\n",
    "b = np.array([0.1,0.3])\n",
    "y = np.array([0,0.4,2])\n",
    "linearModelLossRSS(b,X,y)\n"
   ]
  },
  {
   "cell_type": "markdown",
   "metadata": {},
   "source": [
    "### Question 1.4:  /15 points. \n",
    "\n",
    "Now that you've implemented a loss function in question 1.3, it is now time to minimize it!\n",
    "\n",
    "Write a function `linearModelFit` to fit a linear model.  The function should take as its first argument the design matrix `X` as a 2d-array, as its second argument a 1d-array `y` of outcomes, and as its third argument a function  `lossfcn` which returns as a tuple the value of the loss, as well as the gradient of the loss. As a result, it should return the estimated betas and the R2. \n",
    "\n",
    "Test the function with the values: \n",
    "```\n",
    "X = np.array([[1,0],[1,-1],[1,2]])\n",
    "y = np.array([0,0.4,2]) \n",
    "```\n",
    "\n",
    "Report best parameters and the fitted R2 \n"
   ]
  },
  {
   "cell_type": "code",
   "execution_count": 44,
   "metadata": {},
   "outputs": [
    {
     "data": {
      "text/plain": [
       "([0.6, 0.6], 0.75)"
      ]
     },
     "execution_count": 44,
     "metadata": {},
     "output_type": "execute_result"
    }
   ],
   "source": [
    "import scipy.optimize as so\n",
    "def linearModelFit(X,y,lossfcn = linearModelLossRSS):\n",
    "    sxx=0\n",
    "    sxy=0\n",
    "    xaverage=0\n",
    "    yaverage=0\n",
    "    tss=0\n",
    "    #compute average for x values\n",
    "    for i in range(len(X)):\n",
    "        xaverage = xaverage + X[i][1]\n",
    "    xaverage = xaverage/len(X)    \n",
    "    #compute average for y values\n",
    "    for j in range(len(y)):\n",
    "        yaverage = yaverage + y[j]\n",
    "    yaverage = yaverage/len(y)\n",
    "    #compute sum of squares, a.k.a sxx\n",
    "    for i in range(len(X)):\n",
    "        sxx = sxx + pow((X[i][1]-xaverage),2)\n",
    "    #compute sum of product, a.k.a sxy\n",
    "    for j in range(len(y)):\n",
    "        sxy = sxy + ((X[j][1]-xaverage)*(y[j]-yaverage))\n",
    "    #compute total sum of squares, a.k.a tss\n",
    "    for k in range(len(y)):\n",
    "        tss = tss + pow((y[k]-yaverage),2)\n",
    "    #using least square method to obtain beta1 and 2\n",
    "    beta2 = sxy/sxx\n",
    "    beta1 = yaverage - (xaverage*beta2)\n",
    "    estimated_betas = [beta1,beta2]\n",
    "    #get residual sum of squares(rss) from the loss function\n",
    "    rss1 = lossfcn(estimated_betas,X,y)\n",
    "    rss = rss1[0]\n",
    "    #calculate R2\n",
    "    R2= 1-(rss/tss)\n",
    "    return (estimated_betas,R2)\n",
    "X = np.array([[1,0],[1,-1],[1,2]])\n",
    "y = np.array([0,0.4,2]) \n",
    "linearModelFit(X,y,lossfcn = linearModelLossRSS)"
   ]
  },
  {
   "cell_type": "markdown",
   "metadata": {},
   "source": [
    "### Question 1.5: /15 points\n",
    "\n",
    "Use the above functions to fit your model to the possum data. Then use your model and the fitted parameters to make predictions along a grid of equally spaced possum ages.  \n",
    "\n",
    "Plot the data and add a line for the predicted values. You can get these by generating a new X-matrix with equally space ages (using for example np.linspace). Also report the R2 value for the fit. You can do this by either printing out the R2 of the fit or putting it on your plot via the `annotate` function in matplotlib.\n"
   ]
  },
  {
   "cell_type": "code",
   "execution_count": 75,
   "metadata": {},
   "outputs": [
    {
     "name": "stdout",
     "output_type": "stream",
     "text": [
      "  sex  age  headL  skullW  totalL  tailL\n",
      "0   m    8   94.1    60.4    89.0   36.0\n",
      "1   f    6   92.5    57.6    91.5   36.5\n",
      "2   f    6   94.0    60.0    95.5   39.0\n",
      "3   f    6   93.2    57.1    92.0   38.0\n",
      "4   f    2   91.5    56.3    85.5   36.0\n",
      "([33.350466045272974, 0.7537283621837543], 0.22286587947604075)\n",
      "R2 has the value of 0.22286587947604075\n"
     ]
    },
    {
     "data": {
      "image/png": "[encoded data removed]",
      "text/plain": [
       "<Figure size 432x288 with 1 Axes>"
      ]
     },
     "metadata": {
      "needs_background": "light"
     },
     "output_type": "display_data"
    }
   ],
   "source": [
    "# Make the design matrix using np.c_ \n",
    "import sys\n",
    "print(possum_data.head())\n",
    "# y = ...\n",
    "y=possum_data.tailL\n",
    "# X =  np.c_[...]\n",
    "agetmp=possum_data.age\n",
    "designtmp = []\n",
    "for i in agetmp:\n",
    "    designtmp.append(1)\n",
    "X = np.c_[designtmp,agetmp]\n",
    "# Call your fitting function \n",
    "print(linearModelFit(X,y,lossfcn = linearModelLossRSS))\n",
    "# Create the scatter plot (see question 1.1)\n",
    "possum_data.plot(x='age',y='tailL',kind='scatter')\n",
    "plt.title('age vs tailL')\n",
    "plt.show\n",
    "# Create a new X matrix with equally space data \n",
    "# Add the line to the graph \n",
    "# Now add on a line with a fixed slope of 0.7537283621837543\n",
    "slope = 0.7537283621837543\n",
    "# A line with a fixed slope can intercept the axis\n",
    "x_0 = 0\n",
    "y_0 = 33.350466045272974\n",
    "# And we'll have the line stop at x = 9\n",
    "x_1 = 9\n",
    "y_1 = 9*slope + y_0\n",
    "plt.scatter([x_0, x_1], [y_0, y_1], marker='^', s=150, c='r')\n",
    "plt.plot([x_0, x_1], [y_0, y_1], c='r') \n",
    "# Report R2 \n",
    "tmp=linearModelFit(X,y,lossfcn = linearModelLossRSS)\n",
    "print(\"R2 has the value of\",tmp[1])"
   ]
  },
  {
   "cell_type": "markdown",
   "metadata": {},
   "source": [
    "## Part 2: LAD Regression\n",
    "\n",
    "### Question 2.1:  /15 points\n",
    "\n",
    "In the previous section, we worked with the squared loss.  Now, we'll implement a linear model with least absolute deviation loss.\n",
    "\n",
    "Write a function `linearModelLossLAD` which computes the least absolute deviation loss function for a linear model  parameterized by $\\beta$, as well as the gradient of the loss.  The function should take as its first argument a 1d-array `beta` of coefficients for the linear model, as its second argument the design matrix `X` as a 2d-array, and as its third argument a 1d-array `y` of observed outcomes.\n",
    "\n",
    "Test the function with the values \n",
    "\n",
    "```\n",
    "X = np.array([[1,0],[1,-1],[1,2]])\n",
    "b = np.array([0.1,0.3])\n",
    "y = np.array([0,0.4,2]) \n",
    "```\n",
    "\n",
    "Report the loss and the gradient. "
   ]
  },
  {
   "cell_type": "code",
   "execution_count": 72,
   "metadata": {},
   "outputs": [
    {
     "data": {
      "text/plain": [
       "(2.0, array([-1., -2.]))"
      ]
     },
     "execution_count": 72,
     "metadata": {},
     "output_type": "execute_result"
    }
   ],
   "source": [
    "def linearModelLossLAD(b,X,y):\n",
    "    predY = linearModelPredict(b,X)\n",
    "    sum_abs_dev = 0\n",
    "    sum_abs_tmp = []\n",
    "    for i in range(len(predY)):\n",
    "        res = y[i] - predY[i]\n",
    "        sum_abs_tmp.append(np.sign(res))\n",
    "        sum_abs_dev = sum_abs_dev + abs(res)\n",
    "    grad = np.array([-np.sum(sum_abs_tmp),-np.sum(np.dot(X.T,sum_abs_tmp))])\n",
    "    return (sum_abs_dev,grad)\n",
    "X = np.array([[1,0],[1,-1],[1,2]])\n",
    "b = np.array([0.1,0.3])\n",
    "y = np.array([0,0.4,2]) \n",
    "linearModelLossLAD(b,X,y)\n"
   ]
  },
  {
   "cell_type": "markdown",
   "metadata": {},
   "source": [
    "### Question 2.2: /10 points\n",
    "\n",
    "\n",
    "Use the above functions to fit your LAD model. Use your model to make predictions along a grid of equally spaced possum ages.  Once fit, add the fitted line to the scatter plot as in question 1.5.  Also report the R2-value. \n",
    "\n",
    "**Written answer**: What is the difference in the fit obtained with an L1 as compared to the L2 cost function? Which one has a higher R2 value? Why?  \n",
    "\n",
    "Note: If you recieve an error from the optimizer, it may be because the loss function for the LAD model is not differentiable at its minimum.  This will lead to some gradient based optimizers to fail to converge.  If this happens to you then pass `method=\"Powell\"` to `scipy.optimize.minimize`.\n",
    "\n"
   ]
  },
  {
   "cell_type": "code",
   "execution_count": 95,
   "metadata": {},
   "outputs": [
    {
     "name": "stdout",
     "output_type": "stream",
     "text": [
      "  sex  age  headL  skullW  totalL  tailL\n",
      "0   m    8   94.1    60.4    89.0   36.0\n",
      "1   f    6   92.5    57.6    91.5   36.5\n",
      "2   f    6   94.0    60.0    95.5   39.0\n",
      "3   f    6   93.2    57.1    92.0   38.0\n",
      "4   f    2   91.5    56.3    85.5   36.0\n",
      "      fun: 73.98616626576988\n",
      " hess_inv: array([[ 0.81067631, -0.20039283],\n",
      "       [-0.20039283,  0.04958992]])\n",
      "      jac: array([ 2., 10.])\n",
      "  message: 'Desired error not necessarily achieved due to precision loss.'\n",
      "     nfev: 77\n",
      "      nit: 15\n",
      "     njev: 65\n",
      "   status: 2\n",
      "  success: False\n",
      "        x: array([34.50403992,  0.3347608 ])\n",
      "R2 has the value of 0.13059970362074613\n"
     ]
    },
    {
     "data": {
      "image/png": "[encoded data removed]",
      "text/plain": [
       "<Figure size 432x288 with 1 Axes>"
      ]
     },
     "metadata": {
      "needs_background": "light"
     },
     "output_type": "display_data"
    }
   ],
   "source": [
    "import scipy.optimize as so\n",
    "# Make the design matrix using np.c_ \n",
    "import sys\n",
    "print(possum_data.head())\n",
    "# y = ...\n",
    "y=possum_data.tailL\n",
    "# X =  np.c_[...]\n",
    "agetmp=possum_data.age\n",
    "designtmp = []\n",
    "for i in agetmp:\n",
    "    designtmp.append(1)\n",
    "X = np.c_[designtmp,agetmp]\n",
    "# Call your fitting function \n",
    "bstart=[0,0]\n",
    "RESULT = so.minimize(linearModelLossLAD,bstart,args=(X,y),jac=True)\n",
    "print(RESULT)\n",
    "# Create the scatter plot (see question 1.1)\n",
    "possum_data.plot(x='age',y='tailL',kind='scatter')\n",
    "plt.title('age vs tailL')\n",
    "plt.show\n",
    "# Add the line to the graph \n",
    "# Now add on a line with a fixed slope of 0.3347608\n",
    "slope = 0.3347608\n",
    "# A line with a fixed slope can intercept the axis\n",
    "x_0 = 0\n",
    "y_0 = 34.50403992\n",
    "# And we'll have the line stop at x = 9\n",
    "x_1 = 9\n",
    "y_1 = 9*slope + y_0\n",
    "plt.scatter([x_0, x_1], [y_0, y_1], marker='^', s=150, c='r')\n",
    "plt.plot([x_0, x_1], [y_0, y_1], c='r') \n",
    "# Report R2 \n",
    "yaverage=0\n",
    "tss=0\n",
    "estimated_betas = [34.50403992,0.3347608]\n",
    "predY = linearModelPredict(estimated_betas,X)\n",
    "residual = y - predY\n",
    "residual_sum_of_squares = np.sum(np.square(residual))\n",
    "dis = y - np.mean(y)\n",
    "sst = np.sum(np.square(dis))\n",
    "R2 = 1-residual_sum_of_squares/sst\n",
    "print(\"R2 has the value of\",R2)"
   ]
  },
  {
   "cell_type": "markdown",
   "metadata": {},
   "source": [
    "Written answer: The LAD fit does not give as much weight to the outlier (9,55) as the OLS fit. The R2 value is lower, however. This is because OLS minimized the RSS, and therefore maximizes R2.  "
   ]
  },
  {
   "cell_type": "markdown",
   "metadata": {},
   "source": [
    "### Question 2.3: /15 points\n",
    "\n",
    "Fit an OLS model to the possum data with the `linear_model` module from the `sklearn` package by using the `LinearRegression` class.  In no more than two sentences, comment on the rsquared values from `sklearn` and the rsquared values from your models. Are they similar?"
   ]
  },
  {
   "cell_type": "code",
   "execution_count": 83,
   "metadata": {},
   "outputs": [
    {
     "name": "stdout",
     "output_type": "stream",
     "text": [
      "intercept [33.35046605]\n",
      "coef [[0.75372836]]\n"
     ]
    },
    {
     "data": {
      "text/plain": [
       "0.22286587947604108"
      ]
     },
     "execution_count": 83,
     "metadata": {},
     "output_type": "execute_result"
    }
   ],
   "source": [
    "from sklearn.linear_model import LinearRegression\n",
    "from sklearn.metrics import r2_score\n",
    "\n",
    "reg = LinearRegression()\n",
    "x_1 = np.array(possum_data.age)\n",
    "x_input = x_1.reshape(-1,1)\n",
    "y_1 = np.array(possum_data.tailL)\n",
    "y_input = y_1.reshape(-1,1)\n",
    "\n",
    "reg.fit(x_input,y_input)\n",
    "print('intercept',reg.intercept_)\n",
    "print('coef',reg.coef_)\n",
    "\n",
    "reg.score(x_input,y_input)"
   ]
  },
  {
   "cell_type": "code",
   "execution_count": null,
   "metadata": {},
   "outputs": [],
   "source": [
    "#The result is similar."
   ]
  }
 ],
 "metadata": {
  "kernelspec": {
   "display_name": "Python 3",
   "language": "python",
   "name": "python3"
  },
  "language_info": {
   "codemirror_mode": {
    "name": "ipython",
    "version": 3
   },
   "file_extension": ".py",
   "mimetype": "text/x-python",
   "name": "python",
   "nbconvert_exporter": "python",
   "pygments_lexer": "ipython3",
   "version": "3.8.5"
  }
 },
 "nbformat": 4,
 "nbformat_minor": 4
}
