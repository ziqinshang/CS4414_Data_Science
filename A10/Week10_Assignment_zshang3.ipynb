{
 "cells": [
  {
   "cell_type": "markdown",
   "metadata": {},
   "source": [
    "# Assignment Week 10: Text Mining using Dimensionality Reduction Methods\n",
    "\n",
    "## Student ID: 250890594\n",
    "\n",
    "This dataset comes from the website [Internet Movie Database](https://www.imdb.com/), and represents 1,000 reviews which were labeled (by humans) as positive or negative, see [here](http://ai.stanford.edu/~amaas/data/sentiment/) for more details. In this coursework, we will study how we can use dimensionality reduction methods to improve our understanding of text data and to predict the sentiment of a set of texts. This application of data science is called [sentiment analysis](https://en.wikipedia.org/wiki/Sentiment_analysis) and it is widely used across many fields to get automated feedback when text opinions are expressed. While most modern methods of sentiment analysis are using complex deep learning methods, the tools we have seen this week can be readily applied to get a good idea of what our users are expressing."
   ]
  },
  {
   "cell_type": "code",
   "execution_count": 1,
   "metadata": {},
   "outputs": [],
   "source": [
    "# Import other packages if you need them!\n",
    "import numpy as np\n",
    "import pandas as pd\n",
    "import torch\n",
    "import torch.nn as nn\n",
    "import torch.nn.functional as F\n",
    "import sklearn.feature_extraction.text as sktext\n",
    "from sklearn.decomposition import PCA\n",
    "from sklearn.linear_model import LogisticRegressionCV\n",
    "from sklearn.model_selection import train_test_split\n",
    "from sklearn.metrics import roc_curve, roc_auc_score\n",
    "\n",
    "\n",
    "# Plotting\n",
    "import matplotlib.pyplot as plt \n",
    "import seaborn as sns\n",
    "from mpl_toolkits.mplot3d import Axes3D\n",
    "%matplotlib inline"
   ]
  },
  {
   "cell_type": "markdown",
   "metadata": {},
   "source": [
    "## Data import\n",
    "\n",
    "The dataset comes with the text and a binary variable which represents the sentiment, either positive or negative. The following code imports the data, splits it into train and test, and applies the [Tf-Idf transform](https://scikit-learn.org/stable/modules/generated/sklearn.feature_extraction.text.TfidfTransformer.html) (see the lectures, slide 34)."
   ]
  },
  {
   "cell_type": "code",
   "execution_count": 2,
   "metadata": {},
   "outputs": [],
   "source": [
    "# Be sure to first leave the data here!\n",
    "imdb_data = pd.read_excel('~/Desktop/IMDB_Sample.xlsx')\n",
    "\n",
    "\n",
    "# Scikit-Learn works by first defining the der \n",
    "TfIDFTransformer = sktext.TfidfVectorizer(strip_accents='unicode', # Eliminate accents and special characters\n",
    "                      stop_words='english', # Eliminates stop words.\n",
    "                      min_df = 0.05, # Eliminate words that do not appear in more than 5% of texts\n",
    "                      max_df = 0.95, # Eliminate words that appear in more than 95% of texts\n",
    "                      sublinear_tf=True # Use sublinear weights (softplus)\n",
    "                      )\n",
    "\n",
    "# Train / test split\n",
    "x_train, x_test, y_train, y_test = train_test_split(imdb_data['texts'],\n",
    "                                                    imdb_data['class'],\n",
    "                                                    test_size=0.3,\n",
    "                                                    random_state=20210318)\n",
    "\n",
    "# Calculate the Tf-Idf transform.\n",
    "TfIDF_train = TfIDFTransformer.fit_transform(x_train)\n",
    "TfIDF_test = TfIDFTransformer.transform(x_test)\n",
    "\n",
    "# Turn to dense matrix as PCA does not like sparse ones.\n",
    "TfIDF_train = TfIDF_train.toarray()\n",
    "TfIDF_test = TfIDF_test.toarray()"
   ]
  },
  {
   "cell_type": "markdown",
   "metadata": {},
   "source": [
    "From here on, you will use the variables `TfIDF_train` and `TfIDF_test` as the input for the different tasks, and the `y_train` and `y_test` labels for each dataset (if required).  The output is a **sparse matrix** with the 236 words that do not appear in more than 95% of texts nor in less than 5% of texts. These matrices only store the relevant information! They are *much* more efficient in-memory.  Sadly, PCA nor torch deal very well with sparse matrices without further processing, so we turn them into dense matrices.\n",
    "\n",
    "We can check the outputs of the first row with the below code."
   ]
  },
  {
   "cell_type": "code",
   "execution_count": 37,
   "metadata": {},
   "outputs": [
    {
     "name": "stdout",
     "output_type": "stream",
     "text": [
      "[0.         0.         0.         0.         0.         0.16565558\n",
      " 0.         0.         0.         0.         0.         0.\n",
      " 0.         0.         0.         0.24573797 0.         0.\n",
      " 0.         0.         0.         0.         0.         0.\n",
      " 0.         0.         0.         0.         0.17111284 0.\n",
      " 0.         0.         0.         0.         0.17934085 0.\n",
      " 0.18989355 0.         0.20293873 0.         0.         0.\n",
      " 0.         0.         0.15861506 0.         0.28146216 0.15964171\n",
      " 0.         0.         0.13397591 0.         0.         0.\n",
      " 0.         0.         0.         0.         0.         0.\n",
      " 0.         0.         0.         0.         0.         0.\n",
      " 0.         0.2143442  0.         0.         0.         0.\n",
      " 0.         0.         0.         0.         0.         0.\n",
      " 0.         0.         0.         0.         0.11417021 0.\n",
      " 0.         0.         0.         0.         0.19858848 0.\n",
      " 0.         0.         0.         0.         0.         0.\n",
      " 0.         0.         0.         0.17507433 0.         0.\n",
      " 0.         0.         0.         0.         0.         0.\n",
      " 0.         0.         0.         0.         0.         0.\n",
      " 0.         0.         0.         0.         0.         0.\n",
      " 0.         0.         0.         0.         0.         0.\n",
      " 0.         0.         0.25421261 0.         0.         0.33802745\n",
      " 0.         0.         0.         0.         0.         0.\n",
      " 0.         0.         0.         0.         0.         0.\n",
      " 0.         0.         0.         0.         0.         0.\n",
      " 0.         0.         0.         0.         0.         0.\n",
      " 0.         0.         0.         0.         0.         0.\n",
      " 0.         0.         0.         0.         0.         0.\n",
      " 0.         0.         0.         0.         0.         0.\n",
      " 0.         0.19455489 0.         0.         0.         0.\n",
      " 0.         0.         0.36503031 0.         0.         0.\n",
      " 0.         0.         0.         0.         0.         0.\n",
      " 0.11485888 0.         0.         0.19079499 0.         0.\n",
      " 0.         0.         0.         0.         0.         0.12018884\n",
      " 0.         0.         0.         0.         0.         0.\n",
      " 0.         0.         0.         0.         0.         0.21148444\n",
      " 0.         0.         0.         0.         0.         0.\n",
      " 0.         0.         0.19455489 0.         0.         0.\n",
      " 0.         0.         0.         0.         0.         0.\n",
      " 0.         0.        ]\n",
      "(700, 236)\n"
     ]
    }
   ],
   "source": [
    "print(TfIDF_train[1,:])\n",
    "print(TfIDF_train.shape)"
   ]
  },
  {
   "cell_type": "markdown",
   "metadata": {},
   "source": [
    "Each column represents one word and each non-zero value represents the Tf-IDF weight as seen in the lectures. To find out which word is which in the index, you can use the [`TfIDFTransformer.get_feature_names()` method](https://scikit-learn.org/stable/modules/generated/sklearn.feature_extraction.text.TfidfTransformer.html)."
   ]
  },
  {
   "cell_type": "code",
   "execution_count": 4,
   "metadata": {},
   "outputs": [
    {
     "name": "stdout",
     "output_type": "stream",
     "text": [
      "There are 236 words in the index.\n"
     ]
    }
   ],
   "source": [
    "print('There are %i words in the index.' % len(TfIDFTransformer.get_feature_names()))"
   ]
  },
  {
   "cell_type": "markdown",
   "metadata": {},
   "source": [
    "## Task 1: PCA decomposition of the texts. [35 pts]\n",
    "\n",
    "Now you have the TfIDF matrix, We can start working on the data. As a first step, we want to explore what some commonly occuring concepts in the text reviews. We can do this using PCA. A PCA transform of the TF-IDF matrix will give you a basis of the text data, each representing a *concept* or set of words that are correlated. Correlation in text can be interpreted as a relation to a similar topic.\n",
    "\n",
    "1. First, calculate a PCA transform of the training data using the **maximum** number of concepts possible. Make a plot of the explained variance that shows the cumulative explained variance per number of concepts. \n",
    "\n",
    "**Written answer: Exactly how many concepts do you need to correctly explain at least 75% of the data? (note we need the exact # of concepts)**  [15 pts]"
   ]
  },
  {
   "cell_type": "code",
   "execution_count": 12,
   "metadata": {},
   "outputs": [
    {
     "data": {
      "text/plain": [
       "[<matplotlib.lines.Line2D at 0x7fd1fa91d550>]"
      ]
     },
     "execution_count": 12,
     "metadata": {},
     "output_type": "execute_result"
    },
    {
     "data": {
      "image/png": "[encoded data removed]",
      "text/plain": [
       "<Figure size 432x288 with 1 Axes>"
      ]
     },
     "metadata": {
      "needs_background": "light"
     },
     "output_type": "display_data"
    }
   ],
   "source": [
    "# Your code here.\n",
    "nPCA = PCA(n_components = 200)\n",
    "nPCA.fit(TfIDF_train)\n",
    "variance = nPCA.explained_variance_ratio_\n",
    "variance = np.cumsum(np.round(nPCA.explained_variance_ratio_,decimals=3)*100)\n",
    "variance\n",
    "# Make the plot\n",
    "plt.plot(variance)"
   ]
  },
  {
   "cell_type": "code",
   "execution_count": 30,
   "metadata": {},
   "outputs": [
    {
     "name": "stdout",
     "output_type": "stream",
     "text": [
      "[ 2.   3.5  4.9  6.2  7.5  8.7  9.8 10.9 12.  13.  14.  15.  16.  17.\n",
      " 17.9 18.8 19.7 20.6 21.5 22.4 23.3 24.2 25.  25.8 26.6 27.4 28.2 29.\n",
      " 29.8 30.6 31.4 32.2 33.  33.7 34.4 35.1 35.8 36.5 37.2 37.9 38.6 39.3\n",
      " 40.  40.7 41.4 42.1 42.8 43.4 44.  44.6 45.2 45.8 46.4 47.  47.6 48.2\n",
      " 48.8 49.4 50.  50.6 51.2 51.8 52.4 53.  53.5 54.  54.5 55.  55.5 56.\n",
      " 56.5 57.  57.5 58.  58.5 59.  59.5 60.  60.5 61.  61.5 62.  62.5 63.\n",
      " 63.5 64.  64.5 65.  65.5 65.9 66.3 66.7 67.1 67.5 67.9 68.3 68.7 69.1\n",
      " 69.5 69.9 70.3 70.7 71.1 71.5 71.9 72.3 72.7 73.1 73.5 73.9 74.3 74.7\n",
      " 75.1 75.5 75.9 76.3 76.6 76.9 77.2 77.5 77.8 78.1 78.4 78.7 79.  79.3\n",
      " 79.6 79.9 80.2 80.5 80.8 81.1 81.4 81.7 82.  82.3 82.6 82.9 83.2 83.5\n",
      " 83.8 84.1 84.4 84.7 85.  85.3 85.6 85.9 86.2 86.5 86.8 87.  87.2 87.4\n",
      " 87.6 87.8 88.  88.2 88.4 88.6 88.8 89.  89.2 89.4 89.6 89.8 90.  90.2\n",
      " 90.4 90.6 90.8 91.  91.2 91.4 91.6 91.8 92.  92.2 92.4 92.6 92.8 93.\n",
      " 93.2 93.4 93.6 93.8 94.  94.2 94.4 94.6 94.8 95.  95.2 95.4 95.6 95.8\n",
      " 96.  96.1 96.2 96.3]\n",
      "Elements with value 75.1 exists at following indices 115\n"
     ]
    }
   ],
   "source": [
    "# To get the exact index where the variance is above 75%\n",
    "print(variance)\n",
    "# result = np.where(variance == 75.1)\n",
    "# print('Tuple of arrays returned : ', result)\n",
    "# print(\"Elements with value  exists at following indices\", result[0], sep='\\n')\n",
    "print(\"Elements with value 75.1 exists at following indices\", 115)"
   ]
  },
  {
   "cell_type": "markdown",
   "metadata": {},
   "source": [
    "**Written answer: **\n",
    "Exactly at 115 concepts I need to correctly explain at least 75% of the data."
   ]
  },
  {
   "cell_type": "markdown",
   "metadata": {},
   "source": [
    "2. Study the first three concepts. To do this, show the 10 words that are the most important in the each of these three concepts (as revealed by the absolute value of the PCA weight in each concept).\n",
    "\n",
    "**Written answer: What is the cumulative variance explained by these three concepts? What would you name each of these concepts?** [10 pts]\n",
    "*Hint: if in a concept you would get the words 'dog', 'cat', 'fish' as the most important ones, you could name the concept 'animals' or 'pets'.*"
   ]
  },
  {
   "cell_type": "code",
   "execution_count": 121,
   "metadata": {},
   "outputs": [
    {
     "name": "stdout",
     "output_type": "stream",
     "text": [
      "0.048604638960120294\n"
     ]
    }
   ],
   "source": [
    "# Explained variance.\n",
    "print(np.sum(nPCA.explained_variance_ratio_[0:3]))"
   ]
  },
  {
   "cell_type": "code",
   "execution_count": 122,
   "metadata": {},
   "outputs": [],
   "source": [
    "# Get words per component\n",
    "Q1_FeatureNames = np.array(TfIDFTransformer.get_feature_names())"
   ]
  },
  {
   "cell_type": "code",
   "execution_count": 124,
   "metadata": {},
   "outputs": [
    {
     "name": "stdout",
     "output_type": "stream",
     "text": [
      "['don' 'best' 'woman' 'films' 'like' 'movies' 'film' 'bad' 'watch' 'movie']\n"
     ]
    }
   ],
   "source": [
    "# Concept 1\n",
    "concept1 = nPCA.components_[0, ]\n",
    "concept1 = np.abs(concept1)\n",
    "concept1_idx = np.argpartition(concept1, -10)[-10:] \n",
    "\n",
    "print(Q1_FeatureNames[concept1_idx])"
   ]
  },
  {
   "cell_type": "code",
   "execution_count": 127,
   "metadata": {},
   "outputs": [
    {
     "name": "stdout",
     "output_type": "stream",
     "text": [
      "['say' 'love' 'films' 'film' 'like' 'great' 'way' 'series' 'story' 'bad']\n"
     ]
    }
   ],
   "source": [
    "# Concept 2\n",
    "concept2 = nPCA.components_[1, ]\n",
    "concept2 = np.abs(concept2)\n",
    "concept2_idx = np.argpartition(concept2, -10)[-10:] \n",
    "\n",
    "print(Q1_FeatureNames[concept2_idx])"
   ]
  },
  {
   "cell_type": "code",
   "execution_count": 128,
   "metadata": {},
   "outputs": [
    {
     "name": "stdout",
     "output_type": "stream",
     "text": [
      "['new' 'acting' 'old' 'seen' 'funny' 'star' 'man' 'series' 'movie' 'film']\n"
     ]
    }
   ],
   "source": [
    "# Concept 3\n",
    "concept3 = nPCA.components_[2, ]\n",
    "concept3 = np.abs(concept3)\n",
    "concept3_idx = np.argpartition(concept3, -10)[-10:] \n",
    "\n",
    "print(Q1_FeatureNames[concept3_idx])"
   ]
  },
  {
   "cell_type": "markdown",
   "metadata": {},
   "source": [
    "**Written answer: **\n",
    "0.048604638960120294 concept1:female-targeted movies concept2:story-telling movies concept3:old movies"
   ]
  },
  {
   "cell_type": "markdown",
   "metadata": {},
   "source": [
    "3. Apply the PCA transformation to the test dataset. Using only the first two components, make a scatter plot of the cases. Identify positive and negative cases by colouring points with different sentiments with different colours. \n",
    "\n",
    "**Written answer: What can you say about where the positive and negative cases lie in your plot? Could we use these concepts to discriminate positive and negative cases? If yes, why? If no, why not? Discuss your findings.** [10 pts]"
   ]
  },
  {
   "cell_type": "code",
   "execution_count": 129,
   "metadata": {},
   "outputs": [
    {
     "data": {
      "text/plain": [
       "<matplotlib.collections.PathCollection at 0x7fd1e107a250>"
      ]
     },
     "execution_count": 129,
     "metadata": {},
     "output_type": "execute_result"
    },
    {
     "data": {
      "image/png": "[encoded data removed]",
      "text/plain": [
       "<Figure size 432x288 with 1 Axes>"
      ]
     },
     "metadata": {
      "needs_background": "light"
     },
     "output_type": "display_data"
    }
   ],
   "source": [
    "# Apply the test data\n",
    "Q1_X_test_tranformed = nPCA.transform(TfIDF_test)\n",
    "# Plot the two different set of points filtering by label.\n",
    "plt.scatter(Q1_X_test_tranformed[:, 0], Q1_X_test_tranformed[:, 1], c = y_test)"
   ]
  },
  {
   "cell_type": "markdown",
   "metadata": {},
   "source": [
    "**Written answer:**\n",
    "no, there's a lot of overlapping with postive and negative classes."
   ]
  },
  {
   "cell_type": "markdown",
   "metadata": {},
   "source": [
    "## Task 2: Autoencoders [35 pts]\n",
    "\n",
    "We will see now the ability of autoencoders to compress the data. Train an autoencoder that compresses the data to 60 neurons in the encoding layer as shown in lab 10.2, to be trained over the original TfIDF train dataset. Use a total of 5 fully connected layers going from 236 to 100 to 60 to 100 to 236 units. Use a relu non-linearity for each of them. Then try at two more variations of this network. You could vary the number of hidden units, number of layers, or the type of nonlinearity that you are using. Train the models, each time reducing model reconstruction error. For each model you train, plot the reconstruction error (MSE) over the train set and the test set as you train every 100 rounds. \n",
    "\n",
    "**Written answer: Which of your models performs the best? After how many epochs does your best model reach convergence? Does your model overfit? If yes, why do you think this is? If no, why?** [10 pts each architecture plus 5 pts arguing which one is better plus the explaining of overfitting]"
   ]
  },
  {
   "cell_type": "code",
   "execution_count": 114,
   "metadata": {},
   "outputs": [
    {
     "name": "stdout",
     "output_type": "stream",
     "text": [
      "999 0.0037517694290727377\n",
      "1999 0.0037517694290727377\n",
      "2999 0.0037517694290727377\n",
      "3999 0.0037517694290727377\n",
      "4999 0.0037517694290727377\n"
     ]
    }
   ],
   "source": [
    "# Model architecture and definition\n",
    "from sklearn.preprocessing import StandardScaler\n",
    "error_train = []\n",
    "error_test = []\n",
    "class autoencoder(nn.Module):\n",
    "    def __init__(self):\n",
    "        super(autoencoder, self).__init__()\n",
    "        self.encoder = nn.Sequential(\n",
    "            nn.Linear(236,100),\n",
    "            nn.ReLU(),\n",
    "            nn.Linear(100,60),\n",
    "            nn.ReLU(),\n",
    "            )\n",
    "        self.decoder = nn.Sequential(\n",
    "            nn.Linear(60,100),\n",
    "            nn.Linear(100,236),\n",
    "            )\n",
    "\n",
    "    def forward(self, x):\n",
    "        x = self.encoder(x)\n",
    "        x = self.decoder(x)\n",
    "        return x\n",
    "#build model\n",
    "auto_enc_11 = autoencoder()\n",
    "\n",
    "#define loss function\n",
    "loss_fn = torch.nn.MSELoss()\n",
    "\n",
    "#define learning rate\n",
    "learning_rate = 1e-1\n",
    "\n",
    "#convert dataset to tensors\n",
    "scaler = StandardScaler()\n",
    "X_scaled = scaler.fit_transform(TfIDF_train)\n",
    "X_scaled_test = torch.from_numpy(TfIDF_test).float()\n",
    "X_scaled = torch.from_numpy(TfIDF_train)\n",
    "# Train!\n",
    "for t in range (5000):\n",
    "  y_pred = auto_enc_11(X_scaled.float())\n",
    "  loss = loss_fn(y_pred, X_scaled.float())\n",
    "  auto_enc_11.zero_grad()\n",
    "  loss.backward()\n",
    "  with torch.no_grad():\n",
    "    for param in auto_enc_11.parameters():\n",
    "        param -= learning_rate * param.grad \n",
    "    if t % 1000 == 999:\n",
    "        print(t, loss2.item())\n",
    "    if t % 100 == 0:\n",
    "        error_train.append(loss.item())\n",
    "        y_pred = auto_enc_11(X_scaled_test)\n",
    "        loss = loss_fn(y_pred, X_scaled_test)\n",
    "        error_test.append(loss.item())"
   ]
  },
  {
   "cell_type": "code",
   "execution_count": 117,
   "metadata": {},
   "outputs": [
    {
     "data": {
      "text/plain": [
       "[<matplotlib.lines.Line2D at 0x7fd1e2a474c0>]"
      ]
     },
     "execution_count": 117,
     "metadata": {},
     "output_type": "execute_result"
    },
    {
     "data": {
      "image/png": "[encoded data removed]",
      "text/plain": [
       "<Figure size 432x288 with 1 Axes>"
      ]
     },
     "metadata": {
      "needs_background": "light"
     },
     "output_type": "display_data"
    }
   ],
   "source": [
    "# Plot errors\n",
    "#pass scaled data to the autoencoder\n",
    "plt.plot(range(0, 5000, 100), error_train, c=\"blue\")\n",
    "plt.plot(range(0, 5000, 100), error_test, c=\"red\")\n",
    "# X_reconstructed = auto_enc_11(X_scaled.float())\n",
    "# #plot the distribution of the reconstruction error\n",
    "# sns.distplot(X_scaled - X_reconstructed.detach().numpy())\n",
    "# plt.xlabel(\"Reconstruction Error\")\n",
    "# plt.title(\"Reconstruction Error Distribution for Autoencoder\")"
   ]
  },
  {
   "cell_type": "code",
   "execution_count": 113,
   "metadata": {},
   "outputs": [
    {
     "name": "stdout",
     "output_type": "stream",
     "text": [
      "999 0.003838512348011136\n",
      "1999 0.003755714511498809\n",
      "2999 0.003753031138330698\n",
      "3999 0.0037523608189076185\n",
      "4999 0.0037517694290727377\n"
     ]
    }
   ],
   "source": [
    "# Model architecture and definition\n",
    "error_train2 = []\n",
    "error_test2 = []\n",
    "class autoencoder2(nn.Module):\n",
    "    def __init__(self):\n",
    "        super(autoencoder2, self).__init__()\n",
    "        self.encoder = nn.Sequential(\n",
    "            nn.Linear(236,160),\n",
    "            nn.ReLU(),\n",
    "            nn.Linear(160,40),\n",
    "            nn.ReLU(),\n",
    "            )\n",
    "        self.decoder = nn.Sequential(\n",
    "            nn.Linear(40,160),\n",
    "            nn.Linear(160,236),\n",
    "            )\n",
    "\n",
    "    def forward(self, x):\n",
    "        x = self.encoder(x)\n",
    "        x = self.decoder(x)\n",
    "        return x\n",
    "#build model\n",
    "auto_enc2 = autoencoder2()\n",
    "\n",
    "#define loss function\n",
    "loss_fn = torch.nn.MSELoss()\n",
    "\n",
    "#define learning rate\n",
    "learning_rate = 1e-1\n",
    "\n",
    "#convert dataset to tensors\n",
    "scaler = StandardScaler()\n",
    "X_scaled = scaler.fit_transform(TfIDF_train)\n",
    "X_scaled = torch.from_numpy(TfIDF_train)\n",
    "# Train!\n",
    "for t in range (5000):\n",
    "  y_pred2 = auto_enc2(X_scaled.float())\n",
    "  loss2 = loss_fn(y_pred2, X_scaled.float())\n",
    "  auto_enc2.zero_grad()\n",
    "  loss2.backward()\n",
    "  with torch.no_grad():\n",
    "    for param in auto_enc2.parameters():\n",
    "        param -= learning_rate * param.grad \n",
    "    if t % 1000 == 999:\n",
    "        print(t, loss2.item())\n",
    "    if t % 100 == 0:\n",
    "        error_train2.append(loss2.item())\n",
    "        y_pred = auto_enc2(X_scaled_test)\n",
    "        loss2 = loss_fn(y_pred, X_scaled_test)\n",
    "        error_test2.append(loss2.item())\n",
    "# for t in range (5000):\n",
    "#   y_pred2 = auto_enc2(X_scaled.float())\n",
    "#   loss2 = loss_fn(y_pred2, X_scaled.float())\n",
    "#   if t % 1000 == 999:\n",
    "#         print(t, loss2.item())\n",
    "#   auto_enc2.zero_grad()\n",
    "#   loss2.backward()\n",
    "#   with torch.no_grad():\n",
    "#         for param in auto_enc2.parameters():\n",
    "#             param -= learning_rate * param.grad "
   ]
  },
  {
   "cell_type": "code",
   "execution_count": 116,
   "metadata": {},
   "outputs": [
    {
     "data": {
      "text/plain": [
       "[<matplotlib.lines.Line2D at 0x7fd1e2991b20>]"
      ]
     },
     "execution_count": 116,
     "metadata": {},
     "output_type": "execute_result"
    },
    {
     "data": {
      "image/png": "[encoded data removed]",
      "text/plain": [
       "<Figure size 432x288 with 1 Axes>"
      ]
     },
     "metadata": {
      "needs_background": "light"
     },
     "output_type": "display_data"
    }
   ],
   "source": [
    "# Plot errors\n",
    "plt.plot(range(0, 5000, 100), error_train2, c=\"blue\")\n",
    "plt.plot(range(0, 5000, 100), error_test2, c=\"red\")\n",
    "# #pass scaled data to the autoencoder\n",
    "# X_reconstructed2 = auto_enc2(X_scaled.float())\n",
    "# #plot the distribution of the reconstruction error\n",
    "# sns.distplot(X_scaled - X_reconstructed2.detach().numpy())\n",
    "# plt.xlabel(\"Reconstruction Error\")\n",
    "# plt.title(\"Reconstruction Error Distribution for Autoencoder\")"
   ]
  },
  {
   "cell_type": "code",
   "execution_count": 115,
   "metadata": {},
   "outputs": [
    {
     "name": "stdout",
     "output_type": "stream",
     "text": [
      "999 0.0038726103957742453\n",
      "1999 0.003755154088139534\n",
      "2999 0.0037494583521038294\n",
      "3999 0.0037490876857191324\n",
      "4999 0.003748991061002016\n"
     ]
    }
   ],
   "source": [
    "# Model architecture and definition\n",
    "error_train3 = []\n",
    "error_test3 = []\n",
    "class autoencoder3(nn.Module):\n",
    "    def __init__(self):\n",
    "        super(autoencoder3, self).__init__()\n",
    "        self.encoder = nn.Sequential(\n",
    "            nn.Linear(236,150),\n",
    "            nn.ReLU(),\n",
    "            nn.Linear(150,100),\n",
    "            nn.ReLU(),\n",
    "            nn.Linear(100,60),\n",
    "            nn.ReLU(),\n",
    "            )\n",
    "        self.decoder = nn.Sequential(\n",
    "            nn.Linear(60,100),\n",
    "            nn.Linear(100,150),\n",
    "            nn.Linear(150,236),\n",
    "            )\n",
    "\n",
    "    def forward(self, x):\n",
    "        x = self.encoder(x)\n",
    "        x = self.decoder(x)\n",
    "        return x\n",
    "#build model\n",
    "auto_enc3 = autoencoder3()\n",
    "\n",
    "#define loss function\n",
    "loss_fn = torch.nn.MSELoss()\n",
    "\n",
    "#define learning rate\n",
    "learning_rate = 1e-1\n",
    "\n",
    "#convert dataset to tensors\n",
    "scaler = StandardScaler()\n",
    "X_scaled = scaler.fit_transform(TfIDF_train)\n",
    "X_scaled = torch.from_numpy(TfIDF_train)\n",
    "# Train!\n",
    "for t in range (5000):\n",
    "  y_pred3 = auto_enc3(X_scaled.float())\n",
    "  loss3 = loss_fn(y_pred3, X_scaled.float())\n",
    "  auto_enc3.zero_grad()\n",
    "  loss3.backward()\n",
    "  with torch.no_grad():\n",
    "    for param in auto_enc3.parameters():\n",
    "        param -= learning_rate * param.grad \n",
    "    if t % 1000 == 999:\n",
    "        print(t, loss3.item())\n",
    "    if t % 100 == 0:\n",
    "        error_train3.append(loss3.item())\n",
    "        y_pred = auto_enc3(X_scaled_test)\n",
    "        loss3 = loss_fn(y_pred, X_scaled_test)\n",
    "        error_test3.append(loss3.item())\n",
    "# for t in range (5000):\n",
    "#   y_pred3 = auto_enc3(X_scaled.float())\n",
    "#   loss3 = loss_fn(y_pred3, X_scaled.float())\n",
    "#   if t % 1000 == 999:\n",
    "#         print(t, loss3.item())\n",
    "#   auto_enc3.zero_grad()\n",
    "#   loss3.backward()\n",
    "#   with torch.no_grad():\n",
    "#         for param in auto_enc3.parameters():\n",
    "#             param -= learning_rate * param.grad "
   ]
  },
  {
   "cell_type": "code",
   "execution_count": 118,
   "metadata": {},
   "outputs": [
    {
     "data": {
      "text/plain": [
       "[<matplotlib.lines.Line2D at 0x7fd1e0bb11c0>]"
      ]
     },
     "execution_count": 118,
     "metadata": {},
     "output_type": "execute_result"
    },
    {
     "data": {
      "image/png": "[encoded data removed]",
      "text/plain": [
       "<Figure size 432x288 with 1 Axes>"
      ]
     },
     "metadata": {
      "needs_background": "light"
     },
     "output_type": "display_data"
    }
   ],
   "source": [
    "# Plot errors\n",
    "plt.plot(range(0, 5000, 100), error_train3, c=\"blue\")\n",
    "plt.plot(range(0, 5000, 100), error_test3, c=\"red\")\n",
    "# #pass scaled data to the autoencoder\n",
    "# X_reconstructed3 = auto_enc3(X_scaled.float())\n",
    "# #plot the distribution of the reconstruction error\n",
    "# sns.distplot(X_scaled - X_reconstructed3.detach().numpy())\n",
    "# plt.xlabel(\"Reconstruction Error\")\n",
    "# plt.title(\"Reconstruction Error Distribution for Autoencoder\")"
   ]
  },
  {
   "cell_type": "markdown",
   "metadata": {},
   "source": [
    "**Written answer:**\n",
    "\n",
    " Which of your models performs the best?\n",
    " The one with three layers performs the best.\n",
    " \n",
    " After how many epochs does your best model reach convergence? \n",
    " Roughly 1500 epochs the best model reaches convergence.\n",
    " \n",
    " Does your model overfit? If yes, why do you think this is? If no, why?\n",
    "    The model does not overfit, because the train set and test set are very similar."
   ]
  },
  {
   "cell_type": "markdown",
   "metadata": {},
   "source": [
    "## Task 3: Benchmarking predictive capabilities of the compressed data. [30 pts]\n",
    "\n",
    "For the final task, you will benchmark the different compression algorithms over the original data. For this:\n",
    "\n",
    "1. Train a regularized logistic regression over the original TfIDF train set (with no compression) to predict the positive / negative class label for each movie. Calculate the AUROC over the test set.\n",
    "2. Train a regularized logistic regression over the PCA-reduced dataset (with 60 components), and calculate the AUROC over the PCA-transformed test set.\n",
    "3. Train a regularized logistic regression over the encoded dataset (with 60 variables), and calculate AUROC over the encoded test set.\n",
    "\n",
    "**Written answer 1: Compare the performance of the three models: how do they compare?**\n",
    "\n",
    "**Written answer 2: Which of the two compression methods (methods 2 and 3) is better at compressing the data without altering its predictive capacity? Why do you think this happens?**"
   ]
  },
  {
   "cell_type": "code",
   "execution_count": 87,
   "metadata": {},
   "outputs": [
    {
     "data": {
      "text/plain": [
       "0.8786692759295499"
      ]
     },
     "execution_count": 87,
     "metadata": {},
     "output_type": "execute_result"
    }
   ],
   "source": [
    "# Full dataset regression and AUC plot / calculation\n",
    "logreg = LogisticRegressionCV(max_iter = 10000)\n",
    "logreg.fit(TfIDF_test,y_test)\n",
    "y_pred = logreg.predict(TfIDF_test)\n",
    "roc_auc_score(y_test,y_pred)"
   ]
  },
  {
   "cell_type": "code",
   "execution_count": 100,
   "metadata": {},
   "outputs": [
    {
     "data": {
      "text/plain": [
       "0.8460238391745241"
      ]
     },
     "execution_count": 100,
     "metadata": {},
     "output_type": "execute_result"
    }
   ],
   "source": [
    "# PCA dataset regression and AUC plot / calculation\n",
    "logreg2 = LogisticRegressionCV(max_iter = 10000)\n",
    "PCA_q3 = PCA(n_components = 60)\n",
    "X1 = pd.DataFrame(PCA_q3.fit_transform(TfIDF_test))\n",
    "logreg2.fit(X1,y_test)\n",
    "y_pred2 = logreg2.predict(X1)\n",
    "roc_auc_score(y_test,y_pred2)"
   ]
  },
  {
   "cell_type": "code",
   "execution_count": 99,
   "metadata": {},
   "outputs": [
    {
     "data": {
      "text/plain": [
       "0.6222647215797901"
      ]
     },
     "execution_count": 99,
     "metadata": {},
     "output_type": "execute_result"
    }
   ],
   "source": [
    "# Autoencoder dataset regression and AUC plot / calculation\n",
    "logreg3 = LogisticRegressionCV(max_iter = 10000)\n",
    "auto_enc_q3 = autoencoder()\n",
    "X_scaled = torch.from_numpy(TfIDF_test)\n",
    "X2 = auto_enc_q3.encoder(X_scaled.float())\n",
    "X2 = X2.detach().numpy()\n",
    "logreg3.fit(X2,y_test)\n",
    "y_pred3 = logreg3.predict(X2)\n",
    "roc_auc_score(y_test,y_pred3)"
   ]
  },
  {
   "cell_type": "markdown",
   "metadata": {},
   "source": [
    "**Written answer:**\n",
    "1.The original TFidf train set performs the best.since it has the highest AUROC value\n",
    "2.The PCA dataset regression is better at compressing the data without altering its predictive capacity, this is because Autoencoder dataset is less effective in terms of data compression while PCA dataset regression is designed to perform data compression"
   ]
  },
  {
   "cell_type": "code",
   "execution_count": null,
   "metadata": {},
   "outputs": [],
   "source": []
  }
 ],
 "metadata": {
  "kernelspec": {
   "display_name": "Python 3",
   "language": "python",
   "name": "python3"
  },
  "language_info": {
   "codemirror_mode": {
    "name": "ipython",
    "version": 3
   },
   "file_extension": ".py",
   "mimetype": "text/x-python",
   "name": "python",
   "nbconvert_exporter": "python",
   "pygments_lexer": "ipython3",
   "version": "3.8.5"
  }
 },
 "nbformat": 4,
 "nbformat_minor": 5
}
