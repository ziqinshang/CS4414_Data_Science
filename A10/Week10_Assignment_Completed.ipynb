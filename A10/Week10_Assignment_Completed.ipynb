{
 "cells": [
  {
   "cell_type": "markdown",
   "metadata": {},
   "source": [
    "# Assignment Week 10: Text Mining using Dimensionality Reduction Methods\n",
    "\n",
    "## Student ID: XXXXXXXX\n",
    "\n",
    "This dataset comes from the website [Internet Movie Database](https://www.imdb.com/), and represents 1,000 reviews which were labeled (by humans) as positive or negative, see [here](http://ai.stanford.edu/~amaas/data/sentiment/) for more details. In this coursework, we will study how we can use dimensionality reduction methods to improve our understanding of text data and to predict the sentiment of a set of texts. This application of data science is called [sentiment analysis](https://en.wikipedia.org/wiki/Sentiment_analysis) and it is widely used across many fields to get automated feedback when text opinions are expressed. While most modern methods of sentiment analysis are using complex deep learning methods, the tools we have seen this week can be readily applied to get a good idea of what our users are expressing."
   ]
  },
  {
   "cell_type": "code",
   "execution_count": 2,
   "metadata": {},
   "outputs": [],
   "source": [
    "# Import other packages if you need them!\n",
    "import numpy as np\n",
    "import pandas as pd\n",
    "import torch\n",
    "import torch.nn as nn\n",
    "import torch.nn.functional as F\n",
    "import sklearn.feature_extraction.text as sktext\n",
    "from sklearn.decomposition import PCA\n",
    "from sklearn.linear_model import LogisticRegressionCV\n",
    "from sklearn.model_selection import train_test_split\n",
    "from sklearn.metrics import roc_curve, roc_auc_score\n",
    "\n",
    "\n",
    "# Plotting\n",
    "import matplotlib.pyplot as plt \n",
    "import seaborn as sns\n",
    "from mpl_toolkits.mplot3d import Axes3D\n",
    "%matplotlib inline"
   ]
  },
  {
   "cell_type": "markdown",
   "metadata": {},
   "source": [
    "## Data import\n",
    "\n",
    "The dataset comes with the text and a binary variable which represents the sentiment, either positive or negative. The following code imports the data, splits it into train and test, and applies the [Tf-Idf transform](https://scikit-learn.org/stable/modules/generated/sklearn.feature_extraction.text.TfidfTransformer.html) (see the lectures, slide 34)."
   ]
  },
  {
   "cell_type": "code",
   "execution_count": 3,
   "metadata": {},
   "outputs": [],
   "source": [
    "# Be sure to first leave the data here!\n",
    "imdb_data = pd.read_excel('IMDB_Sample.xlsx')\n",
    "\n",
    "\n",
    "# Scikit-Learn works by first defining the der \n",
    "TfIDFTransformer = sktext.TfidfVectorizer(strip_accents='unicode', # Eliminate accents and special characters\n",
    "                      stop_words='english', # Eliminates stop words.\n",
    "                      min_df = 0.05, # Eliminate words that do not appear in more than 5% of texts\n",
    "                      max_df = 0.95, # Eliminate words that appear in more than 95% of texts\n",
    "                      sublinear_tf=True # Use sublinear weights (softplus)\n",
    "                      )\n",
    "\n",
    "# Train / test split\n",
    "x_train, x_test, y_train, y_test = train_test_split(imdb_data['texts'],\n",
    "                                                    imdb_data['class'],\n",
    "                                                    test_size=0.3,\n",
    "                                                    random_state=20210318)\n",
    "\n",
    "# Calculate the Tf-Idf transform.\n",
    "TfIDF_train = TfIDFTransformer.fit_transform(x_train)\n",
    "TfIDF_test = TfIDFTransformer.transform(x_test)\n",
    "\n",
    "# Turn to dense matrix as PCA does not like sparse ones.\n",
    "TfIDF_train = TfIDF_train.toarray()\n",
    "TfIDF_test = TfIDF_test.toarray()"
   ]
  },
  {
   "cell_type": "markdown",
   "metadata": {},
   "source": [
    "From here on, you will use the variables `TfIDF_train` and `TfIDF_test` as the input for the different tasks, and the `y_train` and `y_test` labels for each dataset (if required).  The output is a **sparse matrix** with the 236 words that do not appear in more than 95% of texts nor in less than 5% of texts. These matrices only store the relevant information! They are *much* more efficient in-memory.  Sadly, PCA nor torch deal very well with sparse matrices without further processing, so we turn them into dense matrices.\n",
    "\n",
    "We can check the outputs of the first row with the below code."
   ]
  },
  {
   "cell_type": "code",
   "execution_count": 4,
   "metadata": {},
   "outputs": [
    {
     "name": "stdout",
     "output_type": "stream",
     "text": [
      "[0.         0.         0.         0.         0.         0.16565558\n",
      " 0.         0.         0.         0.         0.         0.\n",
      " 0.         0.         0.         0.24573797 0.         0.\n",
      " 0.         0.         0.         0.         0.         0.\n",
      " 0.         0.         0.         0.         0.17111284 0.\n",
      " 0.         0.         0.         0.         0.17934085 0.\n",
      " 0.18989355 0.         0.20293873 0.         0.         0.\n",
      " 0.         0.         0.15861506 0.         0.28146216 0.15964171\n",
      " 0.         0.         0.13397591 0.         0.         0.\n",
      " 0.         0.         0.         0.         0.         0.\n",
      " 0.         0.         0.         0.         0.         0.\n",
      " 0.         0.2143442  0.         0.         0.         0.\n",
      " 0.         0.         0.         0.         0.         0.\n",
      " 0.         0.         0.         0.         0.11417021 0.\n",
      " 0.         0.         0.         0.         0.19858848 0.\n",
      " 0.         0.         0.         0.         0.         0.\n",
      " 0.         0.         0.         0.17507433 0.         0.\n",
      " 0.         0.         0.         0.         0.         0.\n",
      " 0.         0.         0.         0.         0.         0.\n",
      " 0.         0.         0.         0.         0.         0.\n",
      " 0.         0.         0.         0.         0.         0.\n",
      " 0.         0.         0.25421261 0.         0.         0.33802745\n",
      " 0.         0.         0.         0.         0.         0.\n",
      " 0.         0.         0.         0.         0.         0.\n",
      " 0.         0.         0.         0.         0.         0.\n",
      " 0.         0.         0.         0.         0.         0.\n",
      " 0.         0.         0.         0.         0.         0.\n",
      " 0.         0.         0.         0.         0.         0.\n",
      " 0.         0.         0.         0.         0.         0.\n",
      " 0.         0.19455489 0.         0.         0.         0.\n",
      " 0.         0.         0.36503031 0.         0.         0.\n",
      " 0.         0.         0.         0.         0.         0.\n",
      " 0.11485888 0.         0.         0.19079499 0.         0.\n",
      " 0.         0.         0.         0.         0.         0.12018884\n",
      " 0.         0.         0.         0.         0.         0.\n",
      " 0.         0.         0.         0.         0.         0.21148444\n",
      " 0.         0.         0.         0.         0.         0.\n",
      " 0.         0.         0.19455489 0.         0.         0.\n",
      " 0.         0.         0.         0.         0.         0.\n",
      " 0.         0.        ]\n"
     ]
    }
   ],
   "source": [
    "print(TfIDF_train[1,:])"
   ]
  },
  {
   "cell_type": "markdown",
   "metadata": {},
   "source": [
    "Each column represents one word and each non-zero value represents the Tf-IDF weight as seen in the lectures. To find out which word is which in the index, you can use the [`TfIDFTransformer.get_feature_names()` method](https://scikit-learn.org/stable/modules/generated/sklearn.feature_extraction.text.TfidfTransformer.html)."
   ]
  },
  {
   "cell_type": "code",
   "execution_count": 5,
   "metadata": {},
   "outputs": [
    {
     "name": "stdout",
     "output_type": "stream",
     "text": [
      "There are 236 words in the index.\n"
     ]
    }
   ],
   "source": [
    "print('There are %i words in the index.' % len(TfIDFTransformer.get_feature_names()))"
   ]
  },
  {
   "cell_type": "markdown",
   "metadata": {},
   "source": [
    "## Task 1: PCA decomposition of the texts. [35 pts]\n",
    "\n",
    "Now you have the TfIDF matrix, We can start working on the data. As a first step, we want to explore what some commonly occuring concepts in the text reviews. We can do this using PCA. A PCA transform of the TF-IDF matrix will give you a basis of the text data, each representing a *concept* or set of words that are correlated. Correlation in text can be interpreted as a relation to a similar topic.\n",
    "\n",
    "1. First, calculate a PCA transform of the training data using the **maximum** number of concepts possible. Make a plot of the explained variance that shows the cumulative explained variance per number of concepts. \n",
    "\n",
    "**Written answer: Exactly how many concepts do you need to correctly explain at least 75% of the data? (note we need the exact # of concepts)**  [15 pts]"
   ]
  },
  {
   "cell_type": "code",
   "execution_count": 6,
   "metadata": {},
   "outputs": [
    {
     "data": {
      "text/plain": [
       "Text(0, 0.5, 'Explained variance %')"
      ]
     },
     "execution_count": 6,
     "metadata": {},
     "output_type": "execute_result"
    },
    {
     "data": {
      "image/png": "[encoded data removed]",
      "text/plain": [
       "<Figure size 432x288 with 1 Axes>"
      ]
     },
     "metadata": {
      "needs_background": "light"
     },
     "output_type": "display_data"
    }
   ],
   "source": [
    "# Your code here.\n",
    "PCA_IMDB = PCA(n_components=236)\n",
    "PCA_IMDB.fit(TfIDF_train)\n",
    "PCA_variances = PCA_IMDB.explained_variance_ratio_\n",
    "\n",
    "# Make the plot\n",
    "plt.plot(np.arange(1,237), np.cumsum(PCA_variances))\n",
    "plt.hlines(0.75, xmin = 1, xmax = 236, linestyles='dashed', colors='red')\n",
    "plt.xlabel('Number of concepts')\n",
    "plt.ylabel('Explained variance %')"
   ]
  },
  {
   "cell_type": "code",
   "execution_count": 7,
   "metadata": {},
   "outputs": [
    {
     "name": "stdout",
     "output_type": "stream",
     "text": [
      "You need 59 concepts in order to explain at least 50% of the variance\n",
      "You need 113 concepts in order to explain at least 75% of the variance\n"
     ]
    }
   ],
   "source": [
    "# To get the exact index where the variance is above 75%\n",
    "index75 = next(x for x, val in enumerate(np.cumsum(PCA_variances)) if val > 0.75)\n",
    "index50 = next(x for x, val in enumerate(np.cumsum(PCA_variances)) if val > 0.50)\n",
    "print('You need %i concepts in order to explain at least 50%% of the variance' % index50)\n",
    "print('You need %i concepts in order to explain at least 75%% of the variance' % index75)"
   ]
  },
  {
   "cell_type": "markdown",
   "metadata": {},
   "source": [
    "**Written answer: We can see that with 59 concepts (25% of all variables) we already explain 50% of the variance, while with 48% of concepts we explain 75% of the variance.**"
   ]
  },
  {
   "cell_type": "markdown",
   "metadata": {},
   "source": [
    "2. Study the first three concepts. To do this, show the 10 words that are the most important in the each of these three concepts (as revealed by the absolute value of the PCA weight in each concept).\n",
    "\n",
    "**Written answer: What is the cumulative variance explained by these three concepts? What would you name each of these concepts?** [10 pts]\n",
    "*Hint: if in a concept you would get the words 'dog', 'cat', 'fish' as the most important ones, you could name the concept 'animals' or 'pets'.*"
   ]
  },
  {
   "cell_type": "code",
   "execution_count": 8,
   "metadata": {},
   "outputs": [
    {
     "name": "stdout",
     "output_type": "stream",
     "text": [
      "The first three components explain 4.86% of the variance\n"
     ]
    }
   ],
   "source": [
    "# Explained variance.\n",
    "print('The first three components explain %.2f%% of the variance' % (np.cumsum(PCA_variances)[2] * 100))"
   ]
  },
  {
   "cell_type": "code",
   "execution_count": 9,
   "metadata": {},
   "outputs": [],
   "source": [
    "# Get words per component\n",
    "words_per_row = TfIDFTransformer.get_feature_names()\n",
    "\n",
    "most_important = [np.argpartition(np.abs(PCA_IMDB.components_[i]), -10)[-10:] for i in range(3)]"
   ]
  },
  {
   "cell_type": "code",
   "execution_count": 10,
   "metadata": {},
   "outputs": [
    {
     "data": {
      "text/plain": [
       "['don',\n",
       " 'best',\n",
       " 'woman',\n",
       " 'films',\n",
       " 'like',\n",
       " 'movies',\n",
       " 'film',\n",
       " 'bad',\n",
       " 'watch',\n",
       " 'movie']"
      ]
     },
     "execution_count": 10,
     "metadata": {},
     "output_type": "execute_result"
    }
   ],
   "source": [
    "# Concept 1\n",
    "[words_per_row[i] for i in most_important[0]]"
   ]
  },
  {
   "cell_type": "code",
   "execution_count": 11,
   "metadata": {},
   "outputs": [
    {
     "data": {
      "text/plain": [
       "['say',\n",
       " 'love',\n",
       " 'films',\n",
       " 'film',\n",
       " 'like',\n",
       " 'great',\n",
       " 'way',\n",
       " 'series',\n",
       " 'story',\n",
       " 'bad']"
      ]
     },
     "execution_count": 11,
     "metadata": {},
     "output_type": "execute_result"
    }
   ],
   "source": [
    "# Concept 2\n",
    "[words_per_row[i] for i in most_important[1]]"
   ]
  },
  {
   "cell_type": "code",
   "execution_count": 12,
   "metadata": {},
   "outputs": [
    {
     "data": {
      "text/plain": [
       "['new',\n",
       " 'acting',\n",
       " 'old',\n",
       " 'seen',\n",
       " 'funny',\n",
       " 'star',\n",
       " 'man',\n",
       " 'series',\n",
       " 'movie',\n",
       " 'film']"
      ]
     },
     "execution_count": 12,
     "metadata": {},
     "output_type": "execute_result"
    }
   ],
   "source": [
    "# Concept 3\n",
    "[words_per_row[i] for i in most_important[2]]"
   ]
  },
  {
   "cell_type": "markdown",
   "metadata": {},
   "source": [
    "**Written answer: There are several interpretations that can be done here, but in general we can say that the first component identifies movies with generally an intense sentiment (\"best\", \"like\", \"bad\", etc.), the second one could be movies with a story (good and bad ones) and the third one hints at comedies.**"
   ]
  },
  {
   "cell_type": "markdown",
   "metadata": {},
   "source": [
    "3. Apply the PCA transformation to the test dataset. Using only the first two components, make a scatter plot of the cases. Identify positive and negative cases by colouring points with different sentiments with different colours. \n",
    "\n",
    "**Written answer: What can you say about where the positive and negative cases lie in your plot? Could we use these concepts to discriminate positive and negative cases? If yes, why? If no, why not? Discuss your findings.** [10 pts]"
   ]
  },
  {
   "cell_type": "code",
   "execution_count": 15,
   "metadata": {},
   "outputs": [
    {
     "data": {
      "text/plain": [
       "<matplotlib.legend.Legend at 0x16d52809f08>"
      ]
     },
     "execution_count": 15,
     "metadata": {},
     "output_type": "execute_result"
    },
    {
     "data": {
      "image/png": "[encoded data removed]",
      "text/plain": [
       "<Figure size 432x288 with 1 Axes>"
      ]
     },
     "metadata": {
      "needs_background": "light"
     },
     "output_type": "display_data"
    }
   ],
   "source": [
    "test_pca = PCA_IMDB.transform(TfIDF_test)\n",
    "\n",
    "fig = plt.figure()\n",
    "ax = fig.add_subplot(111)\n",
    "\n",
    "# Plot the two different set of points filtering by label.\n",
    "ax.scatter(test_pca[:, 0][y_test == 0], test_pca[:, 1][y_test == 0], marker='o', label='Negative sentiment')\n",
    "ax.scatter(test_pca[:, 0][y_test == 1], test_pca[:, 1][y_test == 1], marker='^', label='Positive sentiment')\n",
    "\n",
    "ax.set_xlabel('Emotional Response')\n",
    "ax.set_ylabel('Story-centric Movies')\n",
    "plt.legend()"
   ]
  },
  {
   "cell_type": "markdown",
   "metadata": {},
   "source": [
    "**Written answer: (This depends on the student's own evaluation of the cluster) While the two components do not explain too much variance, there are two clear accumulation points. Several movies that are story-centric with a relatively low emotional response are characterized as good, while movies with little story and strong emotional response are poorly classified (these can be shock-inducing movies, or excessively loaded stories, for example).**"
   ]
  },
  {
   "cell_type": "markdown",
   "metadata": {},
   "source": [
    "## Task 2: Autoencoders [35 pts]\n",
    "\n",
    "We will see now the ability of autoencoders to compress the data. Train an autoencoder that compresses the data to 60 neurons in the encoding layer as shown in lab 10.2, to be trained over the original TfIDF train dataset. Propose an architecture that uses at least two layers in the encoder and the same number in the decoder. Try at least three variations of your autoencoder, each time trying to reduce model reconstruction error. For each model you train, plot the reconstruction error (MSE) over the train set and the test set as you train every 100 rounds. \n",
    "\n",
    "**Written answer: Which of your models performs the best? After how many epochs does your best model reach convergence? Does your model overfit? If yes, why do you think this is? If no, why?** [10 pts each architecture plus 5 pts arguing which one is better plus the explaining of overfitting]"
   ]
  },
  {
   "cell_type": "code",
   "execution_count": 16,
   "metadata": {},
   "outputs": [],
   "source": [
    "class autoencoder(nn.Module):\n",
    "    def __init__(self):\n",
    "        super(autoencoder, self).__init__()\n",
    "        self.encoder = nn.Sequential(\n",
    "            nn.Linear(236,100),\n",
    "            nn.ReLU(),\n",
    "            nn.Linear(100, 60),\n",
    "            nn.ReLU(),\n",
    "            )\n",
    "        self.decoder = nn.Sequential(\n",
    "            nn.Linear(60,100),\n",
    "            nn.ReLU(),\n",
    "            nn.Linear(100, 236),\n",
    "            nn.ReLU()\n",
    "            )\n",
    "\n",
    "    def forward(self, x):\n",
    "        x = self.encoder(x)\n",
    "        x = self.decoder(x)\n",
    "        return x\n",
    "\n",
    "#build model\n",
    "auto_enc_11 = autoencoder()\n",
    "\n",
    "\n",
    "# define loss function\n",
    "loss_fn = torch.nn.MSELoss()\n",
    "\n",
    "# define learning rate\n",
    "learning_rate = 1e-1\n",
    "\n",
    "# convert dataset to tensors\n",
    "x_train_tensor = torch.from_numpy(TfIDF_train).float()\n",
    "x_test_tensor = torch.from_numpy(TfIDF_test).float()"
   ]
  },
  {
   "cell_type": "code",
   "execution_count": 17,
   "metadata": {},
   "outputs": [],
   "source": [
    "# train model\n",
    "loss_per_batch_train = []\n",
    "loss_per_batch_test = []\n",
    "for t in range(5000):\n",
    "    train_aut = auto_enc_11(x_train_tensor)\n",
    "    loss = loss_fn(x_train_tensor, train_aut)\n",
    "    if t % 100 == 99:\n",
    "        test_aut = auto_enc_11(x_test_tensor)\n",
    "        loss_test = loss_fn(x_test_tensor, test_aut)\n",
    "        loss_per_batch_train.append(loss.item())\n",
    "        loss_per_batch_test.append(loss_test)\n",
    "    auto_enc_11.zero_grad()\n",
    "    loss.backward()\n",
    "    with torch.no_grad():\n",
    "        for param in auto_enc_11.parameters():\n",
    "            param -= learning_rate * param.grad "
   ]
  },
  {
   "cell_type": "code",
   "execution_count": 18,
   "metadata": {},
   "outputs": [
    {
     "data": {
      "image/png": "[encoded data removed]",
      "text/plain": [
       "<Figure size 432x288 with 1 Axes>"
      ]
     },
     "metadata": {
      "needs_background": "light"
     },
     "output_type": "display_data"
    }
   ],
   "source": [
    "# Plot errors\n",
    "plt.plot(loss_per_batch_train, label='Training loss')\n",
    "plt.plot(loss_per_batch_test, label='Test loss')\n",
    "plt.legend()\n",
    "plt.xlabel('Epoch (x100)')\n",
    "plt.ylabel('MSE')\n",
    "plt.show()"
   ]
  },
  {
   "cell_type": "markdown",
   "metadata": {},
   "source": [
    "**Written answer: They will try several cases, and the idea is that they choose the one with lower MSE. 10 pts each plus 5 pts for the argumentation of which ones is best. Here I trained just one, and we can see the autoencoder reaches stability after approximately 2000 epochs, and that it performs equivalently for train and test. The model does not overfit, which is to be expected: an autoencoder is simply a compression algorithm, so it always reduces information, thus it cannot overfit as there is no noise that could be learnt (it would always be discarded).**"
   ]
  },
  {
   "cell_type": "markdown",
   "metadata": {},
   "source": [
    "## Task 3: Benchmarking predictive capabilities of the compressed data. [30 pts]\n",
    "\n",
    "For the final task, you will benchmark the different compression algorithms over the original data. For this:\n",
    "\n",
    "1. Train a regularized logistic regression over the original TfIDF train set (with no compression), and calculate the AUROC over the test set.\n",
    "2. Train a regularized logistic regression over the PCA-reduced dataset (with 60 components), and calculate the AUROC over the PCA-transformed test set.\n",
    "3. Train a regularized logistic regression over the encoded dataset (with 60 variables), and calculate AUROC over the encoded test set.\n",
    "\n",
    "**Written answer 1: Compare the performance of the three models: how do they compare?**\n",
    "\n",
    "**Written answer 2: Which of the two compression methods (methods 2 and 3) is better at compressing the data without altering its predictive capacity? Why do you think this happens?**"
   ]
  },
  {
   "cell_type": "code",
   "execution_count": 19,
   "metadata": {},
   "outputs": [
    {
     "data": {
      "image/png": "[encoded data removed]",
      "text/plain": [
       "<Figure size 432x288 with 1 Axes>"
      ]
     },
     "metadata": {
      "needs_background": "light"
     },
     "output_type": "display_data"
    }
   ],
   "source": [
    "# Full dataset\n",
    "LogRegFull = LogisticRegressionCV(Cs=10,\n",
    "                                  cv=3,\n",
    "                                  penalty='l2',\n",
    "                                  solver='lbfgs',\n",
    "                                  tol=0.0001,\n",
    "                                  max_iter=1000,\n",
    "                                  n_jobs=-1,\n",
    "                                  refit=True,\n",
    "                                  random_state=20210318\n",
    "                                 )\n",
    "\n",
    "# Train!\n",
    "LogRegFull.fit(TfIDF_train, y_train)\n",
    "\n",
    "# Apply to the test dataset\n",
    "probs_test_full = LogRegFull.predict_proba(TfIDF_test)\n",
    "\n",
    "# Calculate the ROC curve points\n",
    "fpr, tpr, thresholds = roc_curve(y_test, probs_test_full[:,1])\n",
    "\n",
    "# Save the AUC in a variable to display it. Round it first\n",
    "auc = np.round(roc_auc_score(y_true = y_test, \n",
    "                             y_score = probs_test_full[:,1]),\n",
    "              decimals = 3)\n",
    "\n",
    "# Create and show the plot\n",
    "plt.plot(fpr,tpr,label=\"Full dataset, auc=\"+str(auc))\n",
    "plt.legend(loc=4)\n",
    "plt.show()\n"
   ]
  },
  {
   "cell_type": "code",
   "execution_count": 20,
   "metadata": {},
   "outputs": [
    {
     "data": {
      "image/png": "[encoded data removed]",
      "text/plain": [
       "<Figure size 432x288 with 1 Axes>"
      ]
     },
     "metadata": {
      "needs_background": "light"
     },
     "output_type": "display_data"
    }
   ],
   "source": [
    "# PCA\n",
    "PCA_IMDB = PCA(n_components=60)\n",
    "x_train_pca = PCA_IMDB.fit_transform(TfIDF_train)\n",
    "x_test_pca = PCA_IMDB.transform(TfIDF_test)\n",
    "\n",
    "# LogReg object\n",
    "LogRegPCA = LogisticRegressionCV(Cs=10,\n",
    "                                  cv=3,\n",
    "                                  penalty='l2',\n",
    "                                  solver='lbfgs',\n",
    "                                  tol=0.0001,\n",
    "                                  max_iter=1000,\n",
    "                                  n_jobs=-1,\n",
    "                                  refit=True,\n",
    "                                  random_state=20210318\n",
    "                                 )\n",
    "\n",
    "# Train!\n",
    "LogRegPCA.fit(x_train_pca, y_train)\n",
    "\n",
    "# Apply to the test dataset\n",
    "probs_test_pca = LogRegPCA.predict_proba(x_test_pca)\n",
    "\n",
    "# Calculate the ROC curve points\n",
    "fpr, tpr, thresholds = roc_curve(y_test, probs_test_pca[:,1])\n",
    "\n",
    "# Save the AUC in a variable to display it. Round it first\n",
    "auc = np.round(roc_auc_score(y_true = y_test, \n",
    "                             y_score = probs_test_pca[:,1]),\n",
    "              decimals = 3)\n",
    "\n",
    "# Create and show the plot\n",
    "plt.plot(fpr,tpr,label=\"PCA, auc=\"+str(auc))\n",
    "plt.legend(loc=4)\n",
    "plt.show()"
   ]
  },
  {
   "cell_type": "code",
   "execution_count": 21,
   "metadata": {},
   "outputs": [
    {
     "data": {
      "image/png": "[encoded data removed]",
      "text/plain": [
       "<Figure size 432x288 with 1 Axes>"
      ]
     },
     "metadata": {
      "needs_background": "light"
     },
     "output_type": "display_data"
    }
   ],
   "source": [
    "# Autoencoders\n",
    "x_train_auto = auto_enc_11.encoder(x_train_tensor).detach().numpy()\n",
    "x_test_auto = auto_enc_11.encoder(x_test_tensor).detach().numpy()\n",
    "\n",
    "# LogReg object\n",
    "LogRegAuto = LogisticRegressionCV(Cs=10,\n",
    "                                  cv=3,\n",
    "                                  penalty='l2',\n",
    "                                  solver='lbfgs',\n",
    "                                  tol=0.0001,\n",
    "                                  max_iter=1000,\n",
    "                                  n_jobs=-1,\n",
    "                                  refit=True,\n",
    "                                  random_state=20210318\n",
    "                                 )\n",
    "\n",
    "# Train!\n",
    "LogRegAuto.fit(x_train_auto, y_train)\n",
    "\n",
    "# Apply to the test dataset\n",
    "probs_test_auto = LogRegAuto.predict_proba(x_test_auto)\n",
    "\n",
    "# Calculate the ROC curve points\n",
    "fpr, tpr, thresholds = roc_curve(y_test, probs_test_auto[:,1])\n",
    "\n",
    "# Save the AUC in a variable to display it. Round it first\n",
    "auc = np.round(roc_auc_score(y_true = y_test, \n",
    "                             y_score = probs_test_auto[:,1]),\n",
    "              decimals = 3)\n",
    "\n",
    "# Create and show the plot\n",
    "plt.plot(fpr,tpr,label=\"Autoencoder, auc=\"+str(auc))\n",
    "plt.legend(loc=4)\n",
    "plt.show()"
   ]
  },
  {
   "cell_type": "markdown",
   "metadata": {},
   "source": [
    "**Written answer: We can clearly see the PCA method is superior in keeping the predictive capability intact. The rotation method preserves most of the variance (around 50%), and this variance is related to the sentiment as we saw in task 1.1. The autoencoder, on the other hand, has no guarantees regarding the difference between the original data and the new variables. Besides, it is a non-linear method of compression, so logistic regression might not be the best method to measure its performance. In this case, PCA is clearly the superior alternative.**"
   ]
  }
 ],
 "metadata": {
  "kernelspec": {
   "display_name": "Python 3",
   "language": "python",
   "name": "python3"
  },
  "language_info": {
   "codemirror_mode": {
    "name": "ipython",
    "version": 3
   },
   "file_extension": ".py",
   "mimetype": "text/x-python",
   "name": "python",
   "nbconvert_exporter": "python",
   "pygments_lexer": "ipython3",
   "version": "3.8.5"
  }
 },
 "nbformat": 4,
 "nbformat_minor": 5
}
