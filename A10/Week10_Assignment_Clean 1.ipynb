{
 "cells": [
  {
   "cell_type": "markdown",
   "metadata": {},
   "source": [
    "# Assignment Week 10: Text Mining using Dimensionality Reduction Methods\n",
    "\n",
    "## Student ID: XXXXXXXX\n",
    "\n",
    "This dataset comes from the website [Internet Movie Database](https://www.imdb.com/), and represents 1,000 reviews which were labeled (by humans) as positive or negative, see [here](http://ai.stanford.edu/~amaas/data/sentiment/) for more details. In this coursework, we will study how we can use dimensionality reduction methods to improve our understanding of text data and to predict the sentiment of a set of texts. This application of data science is called [sentiment analysis](https://en.wikipedia.org/wiki/Sentiment_analysis) and it is widely used across many fields to get automated feedback when text opinions are expressed. While most modern methods of sentiment analysis are using complex deep learning methods, the tools we have seen this week can be readily applied to get a good idea of what our users are expressing."
   ]
  },
  {
   "cell_type": "code",
   "execution_count": 1,
   "metadata": {},
   "outputs": [],
   "source": [
    "# Import other packages if you need them!\n",
    "import numpy as np\n",
    "import pandas as pd\n",
    "import torch\n",
    "import torch.nn as nn\n",
    "import torch.nn.functional as F\n",
    "import sklearn.feature_extraction.text as sktext\n",
    "from sklearn.decomposition import PCA\n",
    "from sklearn.linear_model import LogisticRegressionCV\n",
    "from sklearn.model_selection import train_test_split\n",
    "from sklearn.metrics import roc_curve, roc_auc_score\n",
    "\n",
    "\n",
    "# Plotting\n",
    "import matplotlib.pyplot as plt \n",
    "import seaborn as sns\n",
    "from mpl_toolkits.mplot3d import Axes3D\n",
    "%matplotlib inline"
   ]
  },
  {
   "cell_type": "markdown",
   "metadata": {},
   "source": [
    "## Data import\n",
    "\n",
    "The dataset comes with the text and a binary variable which represents the sentiment, either positive or negative. The following code imports the data, splits it into train and test, and applies the [Tf-Idf transform](https://scikit-learn.org/stable/modules/generated/sklearn.feature_extraction.text.TfidfTransformer.html) (see the lectures, slide 34)."
   ]
  },
  {
   "cell_type": "code",
   "execution_count": 2,
   "metadata": {},
   "outputs": [],
   "source": [
    "# Be sure to first leave the data here!\n",
    "imdb_data = pd.read_excel('IMDB_Sample.xlsx')\n",
    "\n",
    "\n",
    "# Scikit-Learn works by first defining the der \n",
    "TfIDFTransformer = sktext.TfidfVectorizer(strip_accents='unicode', # Eliminate accents and special characters\n",
    "                      stop_words='english', # Eliminates stop words.\n",
    "                      min_df = 0.05, # Eliminate words that do not appear in more than 5% of texts\n",
    "                      max_df = 0.95, # Eliminate words that appear in more than 95% of texts\n",
    "                      sublinear_tf=True # Use sublinear weights (softplus)\n",
    "                      )\n",
    "\n",
    "# Train / test split\n",
    "x_train, x_test, y_train, y_test = train_test_split(imdb_data['texts'],\n",
    "                                                    imdb_data['class'],\n",
    "                                                    test_size=0.3,\n",
    "                                                    random_state=20210318)\n",
    "\n",
    "# Calculate the Tf-Idf transform.\n",
    "TfIDF_train = TfIDFTransformer.fit_transform(x_train)\n",
    "TfIDF_test = TfIDFTransformer.transform(x_test)\n",
    "\n",
    "# Turn to dense matrix as PCA does not like sparse ones.\n",
    "TfIDF_train = TfIDF_train.toarray()\n",
    "TfIDF_test = TfIDF_test.toarray()"
   ]
  },
  {
   "cell_type": "markdown",
   "metadata": {},
   "source": [
    "From here on, you will use the variables `TfIDF_train` and `TfIDF_test` as the input for the different tasks, and the `y_train` and `y_test` labels for each dataset (if required).  The output is a **sparse matrix** with the 236 words that do not appear in more than 95% of texts nor in less than 5% of texts. These matrices only store the relevant information! They are *much* more efficient in-memory.  Sadly, PCA nor torch deal very well with sparse matrices without further processing, so we turn them into dense matrices.\n",
    "\n",
    "We can check the outputs of the first row with the below code."
   ]
  },
  {
   "cell_type": "code",
   "execution_count": 3,
   "metadata": {},
   "outputs": [
    {
     "name": "stdout",
     "output_type": "stream",
     "text": [
      "[0.         0.         0.         0.         0.         0.16565558\n",
      " 0.         0.         0.         0.         0.         0.\n",
      " 0.         0.         0.         0.24573797 0.         0.\n",
      " 0.         0.         0.         0.         0.         0.\n",
      " 0.         0.         0.         0.         0.17111284 0.\n",
      " 0.         0.         0.         0.         0.17934085 0.\n",
      " 0.18989355 0.         0.20293873 0.         0.         0.\n",
      " 0.         0.         0.15861506 0.         0.28146216 0.15964171\n",
      " 0.         0.         0.13397591 0.         0.         0.\n",
      " 0.         0.         0.         0.         0.         0.\n",
      " 0.         0.         0.         0.         0.         0.\n",
      " 0.         0.2143442  0.         0.         0.         0.\n",
      " 0.         0.         0.         0.         0.         0.\n",
      " 0.         0.         0.         0.         0.11417021 0.\n",
      " 0.         0.         0.         0.         0.19858848 0.\n",
      " 0.         0.         0.         0.         0.         0.\n",
      " 0.         0.         0.         0.17507433 0.         0.\n",
      " 0.         0.         0.         0.         0.         0.\n",
      " 0.         0.         0.         0.         0.         0.\n",
      " 0.         0.         0.         0.         0.         0.\n",
      " 0.         0.         0.         0.         0.         0.\n",
      " 0.         0.         0.25421261 0.         0.         0.33802745\n",
      " 0.         0.         0.         0.         0.         0.\n",
      " 0.         0.         0.         0.         0.         0.\n",
      " 0.         0.         0.         0.         0.         0.\n",
      " 0.         0.         0.         0.         0.         0.\n",
      " 0.         0.         0.         0.         0.         0.\n",
      " 0.         0.         0.         0.         0.         0.\n",
      " 0.         0.         0.         0.         0.         0.\n",
      " 0.         0.19455489 0.         0.         0.         0.\n",
      " 0.         0.         0.36503031 0.         0.         0.\n",
      " 0.         0.         0.         0.         0.         0.\n",
      " 0.11485888 0.         0.         0.19079499 0.         0.\n",
      " 0.         0.         0.         0.         0.         0.12018884\n",
      " 0.         0.         0.         0.         0.         0.\n",
      " 0.         0.         0.         0.         0.         0.21148444\n",
      " 0.         0.         0.         0.         0.         0.\n",
      " 0.         0.         0.19455489 0.         0.         0.\n",
      " 0.         0.         0.         0.         0.         0.\n",
      " 0.         0.        ]\n"
     ]
    }
   ],
   "source": [
    "print(TfIDF_train[1,:])"
   ]
  },
  {
   "cell_type": "markdown",
   "metadata": {},
   "source": [
    "Each column represents one word and each non-zero value represents the Tf-IDF weight as seen in the lectures. To find out which word is which in the index, you can use the [`TfIDFTransformer.get_feature_names()` method](https://scikit-learn.org/stable/modules/generated/sklearn.feature_extraction.text.TfidfTransformer.html)."
   ]
  },
  {
   "cell_type": "code",
   "execution_count": 4,
   "metadata": {},
   "outputs": [
    {
     "name": "stdout",
     "output_type": "stream",
     "text": [
      "There are 236 words in the index.\n"
     ]
    }
   ],
   "source": [
    "print('There are %i words in the index.' % len(TfIDFTransformer.get_feature_names()))"
   ]
  },
  {
   "cell_type": "markdown",
   "metadata": {},
   "source": [
    "## Task 1: PCA decomposition of the texts. [35 pts]\n",
    "\n",
    "Now you have the TfIDF matrix, We can start working on the data. As a first step, we want to explore what some commonly occuring concepts in the text reviews. We can do this using PCA. A PCA transform of the TF-IDF matrix will give you a basis of the text data, each representing a *concept* or set of words that are correlated. Correlation in text can be interpreted as a relation to a similar topic.\n",
    "\n",
    "1. First, calculate a PCA transform of the training data using the **maximum** number of concepts possible. Make a plot of the explained variance that shows the cumulative explained variance per number of concepts. \n",
    "\n",
    "**Written answer: Exactly how many concepts do you need to correctly explain at least 75% of the data? (note we need the exact # of concepts)**  [15 pts]"
   ]
  },
  {
   "cell_type": "code",
   "execution_count": 5,
   "metadata": {},
   "outputs": [
    {
     "data": {
      "text/plain": [
       "Text(0, 0.5, 'Cumulative explained variance')"
      ]
     },
     "execution_count": 5,
     "metadata": {},
     "output_type": "execute_result"
    },
    {
     "data": {
      "image/png": "[encoded data removed]",
      "text/plain": [
       "<Figure size 432x288 with 1 Axes>"
      ]
     },
     "metadata": {
      "needs_background": "light"
     },
     "output_type": "display_data"
    }
   ],
   "source": [
    "# Your code here.\n",
    "Q1_PCA = PCA()\n",
    "Q1_X_train = Q1_PCA.fit_transform(TfIDF_train)\n",
    "Q1_PCA_VarExp_Incremental = Q1_PCA.explained_variance_ratio_\n",
    "Q1_PCA_VarExp_CumSum = np.cumsum(Q1_PCA_VarExp_Incremental)\n",
    "# Make the plot\n",
    "plt.plot( range(1, 1 + Q1_PCA_VarExp_CumSum.shape[0]), Q1_PCA_VarExp_CumSum )\n",
    "plt.xlabel(\"Number of concepts\")\n",
    "plt.ylabel(\"Cumulative explained variance\")"
   ]
  },
  {
   "cell_type": "code",
   "execution_count": 6,
   "metadata": {},
   "outputs": [
    {
     "name": "stdout",
     "output_type": "stream",
     "text": [
      "114\n"
     ]
    }
   ],
   "source": [
    "# To get the exact index where the variance is above 75%\n",
    "print(np.min(np.where(Q1_PCA_VarExp_CumSum > 0.75)) + 1)"
   ]
  },
  {
   "cell_type": "markdown",
   "metadata": {},
   "source": [
    "**Written answer: **114"
   ]
  },
  {
   "cell_type": "markdown",
   "metadata": {},
   "source": [
    "2. Study the first three concepts. To do this, show the 10 words that are the most important in the each of these three concepts (as revealed by the absolute value of the PCA weight in each concept).\n",
    "\n",
    "**Written answer: What is the cumulative variance explained by these three concepts? What would you name each of these concepts?** [10 pts]\n",
    "*Hint: if in a concept you would get the words 'dog', 'cat', 'fish' as the most important ones, you could name the concept 'animals' or 'pets'.*"
   ]
  },
  {
   "cell_type": "code",
   "execution_count": 7,
   "metadata": {},
   "outputs": [
    {
     "name": "stdout",
     "output_type": "stream",
     "text": [
      "0.04860463896012031\n",
      "0.04860463896012031\n"
     ]
    }
   ],
   "source": [
    "# Explained variance.\n",
    "print(np.sum(Q1_PCA_VarExp_Incremental[0:3]))\n",
    "print(Q1_PCA_VarExp_CumSum[2])"
   ]
  },
  {
   "cell_type": "code",
   "execution_count": 8,
   "metadata": {},
   "outputs": [],
   "source": [
    "# Get words per component\n",
    "Q1_FeatureNames = np.array(TfIDFTransformer.get_feature_names())"
   ]
  },
  {
   "cell_type": "code",
   "execution_count": 9,
   "metadata": {},
   "outputs": [
    {
     "name": "stdout",
     "output_type": "stream",
     "text": [
      "['movie' 'film' 'bad' 'movies' 'films' 'like' 'watch' 'best' 'woman' 'don']\n"
     ]
    }
   ],
   "source": [
    "# Concept 1\n",
    "Q1_PCA_weight_concept1 = Q1_PCA.components_[0, ]\n",
    "Q1_PCA_weight_concept1 = np.abs(Q1_PCA_weight_concept1)\n",
    "\n",
    "Q1_PCA_weight_concept1_idx = np.argpartition(Q1_PCA_weight_concept1, -10)[-10:] \n",
    "\n",
    "print(Q1_FeatureNames[Q1_PCA_weight_concept1_idx])"
   ]
  },
  {
   "cell_type": "code",
   "execution_count": 10,
   "metadata": {},
   "outputs": [
    {
     "name": "stdout",
     "output_type": "stream",
     "text": [
      "['film' 'bad' 'films' 'series' 'way' 'great' 'like' 'story' 'love' 'say']\n"
     ]
    }
   ],
   "source": [
    "# Concept 2\n",
    "Q1_PCA_weight_concept2 = Q1_PCA.components_[1, ]\n",
    "Q1_PCA_weight_concept2 = np.abs(Q1_PCA_weight_concept2)\n",
    "Q1_PCA_weight_concept2_idx = np.argpartition(Q1_PCA_weight_concept2, -10)[-10:] \n",
    "\n",
    "print(Q1_FeatureNames[Q1_PCA_weight_concept2_idx])"
   ]
  },
  {
   "cell_type": "code",
   "execution_count": 11,
   "metadata": {},
   "outputs": [
    {
     "name": "stdout",
     "output_type": "stream",
     "text": [
      "['film' 'movie' 'series' 'man' 'old' 'funny' 'seen' 'star' 'acting' 'new']\n"
     ]
    }
   ],
   "source": [
    "# Concept 3\n",
    "Q1_PCA_weight_concept3 = Q1_PCA.components_[2, ]\n",
    "Q1_PCA_weight_concept3 = np.abs(Q1_PCA_weight_concept3)\n",
    "Q1_PCA_weight_concept3_idx = np.argpartition(Q1_PCA_weight_concept3, -10)[-10:] \n",
    "\n",
    "print(Q1_FeatureNames[Q1_PCA_weight_concept3_idx])"
   ]
  },
  {
   "cell_type": "markdown",
   "metadata": {},
   "source": [
    "**Written answer: **0.04860463896012031,concept1:trash films, concept2:story films, concept3:movie series"
   ]
  },
  {
   "cell_type": "markdown",
   "metadata": {},
   "source": [
    "3. Apply the PCA transformation to the test dataset. Using only the first two components, make a scatter plot of the cases. Identify positive and negative cases by colouring points with different sentiments with different colours. \n",
    "\n",
    "**Written answer: What can you say about where the positive and negative cases lie in your plot? Could we use these concepts to discriminate positive and negative cases? If yes, why? If no, why not? Discuss your findings.** [10 pts]"
   ]
  },
  {
   "cell_type": "code",
   "execution_count": 12,
   "metadata": {},
   "outputs": [
    {
     "data": {
      "text/plain": [
       "<matplotlib.collections.PathCollection at 0x7fb486f2cb20>"
      ]
     },
     "execution_count": 12,
     "metadata": {},
     "output_type": "execute_result"
    },
    {
     "data": {
      "image/png": "[encoded data removed]",
      "text/plain": [
       "<Figure size 432x288 with 1 Axes>"
      ]
     },
     "metadata": {
      "needs_background": "light"
     },
     "output_type": "display_data"
    }
   ],
   "source": [
    "# Apply the test data\n",
    "Q1_X_test_tranformed = Q1_PCA.transform(TfIDF_test)\n",
    "\n",
    "# Plot the two different set of points filtering by label.\n",
    "plt.scatter(Q1_X_test_tranformed[:, 0], Q1_X_test_tranformed[:, 1], c = y_test)"
   ]
  },
  {
   "cell_type": "markdown",
   "metadata": {},
   "source": [
    "**Written answer:**No, becasue we can see from the plot the points of different colors are overlapped."
   ]
  },
  {
   "cell_type": "markdown",
   "metadata": {},
   "source": [
    "## Task 2: Autoencoders [35 pts]\n",
    "\n",
    "We will see now the ability of autoencoders to compress the data. Train an autoencoder that compresses the data to 60 neurons in the encoding layer as shown in lab 10.2, to be trained over the original TfIDF train dataset. Propose an architecture that uses at least two layers in the encoder and the same number in the decoder. Try at least three variations of your autoencoder, each time trying to reduce model reconstruction error. For each model you train, plot the reconstruction error (MSE) over the train set and the test set as you train every 100 rounds. \n",
    "\n",
    "**Written answer: Which of your models performs the best? After how many epochs does your best model reach convergence? Does your model overfit? If yes, why do you think this is? If no, why?** [10 pts each architecture plus 5 pts arguing which one is better plus the explaining of overfitting]"
   ]
  },
  {
   "cell_type": "code",
   "execution_count": 26,
   "metadata": {},
   "outputs": [],
   "source": [
    "# Model architecture and definition\n",
    "class autoencoder(nn.Module):\n",
    "    def __init__(self, n_neurons):\n",
    "        super(autoencoder, self).__init__()\n",
    "        self.encoder = nn.Sequential(\n",
    "            nn.Linear(236,n_neurons),\n",
    "            nn.Linear(n_neurons, n_neurons),\n",
    "            nn.Hardtanh(),\n",
    "            )\n",
    "        self.decoder = nn.Sequential(\n",
    "            nn.Linear(n_neurons, n_neurons),\n",
    "            nn.Linear(n_neurons,236)\n",
    "            )\n",
    "\n",
    "    def forward(self, x):\n",
    "        x = self.encoder(x)\n",
    "        x = self.decoder(x)\n",
    "        return x\n",
    "\n",
    "Q2_AutoEncoder = autoencoder(n_neurons = 10)\n",
    "loss_fn = torch.nn.MSELoss()\n",
    "learning_rate = 1e-1"
   ]
  },
  {
   "cell_type": "code",
   "execution_count": 27,
   "metadata": {},
   "outputs": [],
   "source": [
    "# Train!\n",
    "X_scaled = torch.from_numpy(TfIDF_train).float()\n",
    "X_scaled_test = torch.from_numpy(TfIDF_test).float()\n",
    "Q2_error_train = []\n",
    "Q2_error_test = []\n",
    "max_iter = 5000\n",
    "\n",
    "for t in range(max_iter):\n",
    "    y_pred = Q2_AutoEncoder(X_scaled)\n",
    "    loss = loss_fn(y_pred, X_scaled)\n",
    "    Q2_AutoEncoder.zero_grad()\n",
    "    loss.backward()\n",
    "    with torch.no_grad():\n",
    "        for param in Q2_AutoEncoder.parameters():\n",
    "            param -= learning_rate * param.grad \n",
    "    \n",
    "    if t % 100 == 0:\n",
    "        Q2_error_train.append(loss.item())\n",
    "        \n",
    "        y_pred = Q2_AutoEncoder(X_scaled_test)\n",
    "        loss = loss_fn(y_pred, X_scaled_test)\n",
    "        Q2_error_test.append(loss.item())"
   ]
  },
  {
   "cell_type": "code",
   "execution_count": 29,
   "metadata": {},
   "outputs": [
    {
     "name": "stdout",
     "output_type": "stream",
     "text": [
      "0.003772332100197673\n"
     ]
    },
    {
     "data": {
      "image/png": "[encoded data removed]",
      "text/plain": [
       "<Figure size 432x288 with 1 Axes>"
      ]
     },
     "metadata": {
      "needs_background": "light"
     },
     "output_type": "display_data"
    }
   ],
   "source": [
    "# Plot errors\n",
    "plt.plot(range(0, max_iter, 100), Q2_error_train, c=\"blue\")\n",
    "plt.plot(range(0, max_iter, 100), Q2_error_test, c=\"red\")\n",
    "print(Q2_error_test[-1])"
   ]
  },
  {
   "cell_type": "markdown",
   "metadata": {},
   "source": [
    "**Written answer:**1500 becomes converge, the model does not overfit, because the red and blue line are pretty close."
   ]
  },
  {
   "cell_type": "markdown",
   "metadata": {},
   "source": [
    "## Task 3: Benchmarking predictive capabilities of the compressed data. [30 pts]\n",
    "\n",
    "For the final task, you will benchmark the different compression algorithms over the original data. For this:\n",
    "\n",
    "1. Train a regularized logistic regression over the original TfIDF train set (with no compression), and calculate the AUROC over the test set.\n",
    "2. Train a regularized logistic regression over the PCA-reduced dataset (with 60 components), and calculate the AUROC over the PCA-transformed test set.\n",
    "3. Train a regularized logistic regression over the encoded dataset (with 60 variables), and calculate AUROC over the encoded test set.\n",
    "\n",
    "**Written answer 1: Compare the performance of the three models: how do they compare?**\n",
    "\n",
    "**Written answer 2: Which of the two compression methods (methods 2 and 3) is better at compressing the data without altering its predictive capacity? Why do you think this happens?**"
   ]
  },
  {
   "cell_type": "code",
   "execution_count": 30,
   "metadata": {},
   "outputs": [
    {
     "data": {
      "text/plain": [
       "0.8589663760896638"
      ]
     },
     "execution_count": 30,
     "metadata": {},
     "output_type": "execute_result"
    },
    {
     "data": {
      "image/png": "[encoded data removed]",
      "text/plain": [
       "<Figure size 432x288 with 1 Axes>"
      ]
     },
     "metadata": {
      "needs_background": "light"
     },
     "output_type": "display_data"
    }
   ],
   "source": [
    "# Full dataset regression and AUC plot / calculation\n",
    "X_train_full = TfIDF_train\n",
    "X_test_full = TfIDF_test\n",
    "\n",
    "Q3_model_full = LogisticRegressionCV(cv=5, max_iter = 10000)\n",
    "Q3_model_full.fit(X_train_full, y_train)\n",
    "\n",
    "Q3_ytest_prob_full = Q3_model_full.predict_proba(X_test_full)\n",
    "Q3_ytest_prob_full = Q3_ytest_prob_full[:, 1] # We only take Pr(Y=1)\n",
    "fpr, tpr, _ = roc_curve(y_test, Q3_ytest_prob_full)\n",
    "\n",
    "ax = sns.lineplot(x=fpr,y=tpr)\n",
    "ax.set_xlabel(\"FPR\")\n",
    "ax.set_ylabel(\"TPR\")\n",
    "ax.set_title(\"ROC\")\n",
    "\n",
    "roc_auc_score(y_test, Q3_ytest_prob_full)"
   ]
  },
  {
   "cell_type": "code",
   "execution_count": 31,
   "metadata": {},
   "outputs": [
    {
     "data": {
      "text/plain": [
       "0.8308130225938445"
      ]
     },
     "execution_count": 31,
     "metadata": {},
     "output_type": "execute_result"
    },
    {
     "data": {
      "image/png": "[encoded data removed]",
      "text/plain": [
       "<Figure size 432x288 with 1 Axes>"
      ]
     },
     "metadata": {
      "needs_background": "light"
     },
     "output_type": "display_data"
    }
   ],
   "source": [
    "# PCA dataset regression and AUC plot / calculation\n",
    "Q3_PCA = PCA(n_components = 60)\n",
    "\n",
    "X_train_PCA = Q3_PCA.fit_transform(TfIDF_train)\n",
    "X_test_PCA = Q3_PCA.transform(TfIDF_test)\n",
    "\n",
    "Q3_model_PCA = LogisticRegressionCV(cv=5, max_iter = 10000)\n",
    "Q3_model_PCA.fit(X_train_PCA, y_train)\n",
    "\n",
    "Q3_ytest_prob_PCA = Q3_model_PCA.predict_proba(X_test_PCA)\n",
    "Q3_ytest_prob_PCA = Q3_ytest_prob_PCA[:, 1] # We only take Pr(Y=1)\n",
    "fpr, tpr, _ = roc_curve(y_test, Q3_ytest_prob_PCA)\n",
    "\n",
    "ax = sns.lineplot(x=fpr,y=tpr)\n",
    "ax.set_xlabel(\"FPR\")\n",
    "ax.set_ylabel(\"TPR\")\n",
    "ax.set_title(\"ROC\")\n",
    "\n",
    "roc_auc_score(y_test, Q3_ytest_prob_PCA)"
   ]
  },
  {
   "cell_type": "code",
   "execution_count": 33,
   "metadata": {},
   "outputs": [
    {
     "data": {
      "text/plain": [
       "0.6934709126489949"
      ]
     },
     "execution_count": 33,
     "metadata": {},
     "output_type": "execute_result"
    },
    {
     "data": {
      "image/png": "[encoded data removed]",
      "text/plain": [
       "<Figure size 432x288 with 1 Axes>"
      ]
     },
     "metadata": {
      "needs_background": "light"
     },
     "output_type": "display_data"
    }
   ],
   "source": [
    "# Autoencoder dataset regression and AUC plot / calculation\n",
    "Q3_AutoEncoder = autoencoder(n_neurons = 60)\n",
    "X_scaled = torch.from_numpy(TfIDF_train).float()\n",
    "max_iter = 5000\n",
    "\n",
    "for t in range(max_iter):\n",
    "    y_pred = Q2_AutoEncoder(X_scaled)\n",
    "    loss = loss_fn(y_pred, X_scaled)\n",
    "    Q3_AutoEncoder.zero_grad()\n",
    "    loss.backward()\n",
    "    with torch.no_grad():\n",
    "        for param in Q2_AutoEncoder.parameters():\n",
    "            param -= learning_rate * param.grad \n",
    "            \n",
    "            \n",
    "X_train_encoder = Q3_AutoEncoder.encoder(torch.from_numpy(TfIDF_train).float()).detach().numpy()\n",
    "X_test_encoder = Q3_AutoEncoder.encoder(torch.from_numpy(TfIDF_test).float()).detach().numpy()\n",
    "\n",
    "Q3_model_encoder = LogisticRegressionCV(cv=5, max_iter = 10000)\n",
    "Q3_model_encoder.fit(X_train_encoder, y_train)\n",
    "\n",
    "Q3_ytest_prob_encoder = Q3_model_encoder.predict_proba(X_test_encoder)\n",
    "Q3_ytest_prob_encoder = Q3_ytest_prob_encoder[:, 1] \n",
    "fpr, tpr, _ = roc_curve(y_test, Q3_ytest_prob_encoder)\n",
    "\n",
    "ax = sns.lineplot(x=fpr,y=tpr)\n",
    "ax.set_xlabel(\"FPR\")\n",
    "ax.set_ylabel(\"TPR\")\n",
    "ax.set_title(\"ROC\")\n",
    "\n",
    "roc_auc_score(y_test, Q3_ytest_prob_encoder)"
   ]
  },
  {
   "cell_type": "markdown",
   "metadata": {},
   "source": [
    "**Written answer:**1.the larger AUROC the better the performace, the original TfIDF is the best "
   ]
  },
  {
   "cell_type": "code",
   "execution_count": null,
   "metadata": {},
   "outputs": [],
   "source": []
  }
 ],
 "metadata": {
  "kernelspec": {
   "display_name": "Python 3",
   "language": "python",
   "name": "python3"
  },
  "language_info": {
   "codemirror_mode": {
    "name": "ipython",
    "version": 3
   },
   "file_extension": ".py",
   "mimetype": "text/x-python",
   "name": "python",
   "nbconvert_exporter": "python",
   "pygments_lexer": "ipython3",
   "version": "3.8.5"
  }
 },
 "nbformat": 4,
 "nbformat_minor": 5
}
