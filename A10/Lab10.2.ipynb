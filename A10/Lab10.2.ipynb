{
 "cells": [
  {
   "cell_type": "markdown",
   "metadata": {
    "id": "S-XNoqlLIkZw"
   },
   "source": [
    "# Week 10 Lecture Lab (Part 2)\n",
    "### In this week's lecture lab, we will examine different methods of dimensionality reduction. We will examine two methods, the first being Principal Component Analysis (PCA) and the second being Autoencoders. To demonstrate dimensionality reduction, we will be using the sklearn wine dataset, which has a total of 178 observations, 13 features, and three output target labels. "
   ]
  },
  {
   "cell_type": "code",
   "execution_count": 1,
   "metadata": {
    "id": "CaGmIRTdIgjn"
   },
   "outputs": [],
   "source": [
    "# make sure that you have seaborn version 0.11.0 installed \n",
    "import pandas as pd\n",
    "import numpy as np\n",
    "import matplotlib.pyplot as plt\n",
    "import seaborn as sns\n",
    "from sklearn.datasets import load_wine\n",
    "from sklearn import __version__\n",
    "from sklearn.preprocessing import StandardScaler\n",
    "import torch\n",
    "import torch.nn as nn\n",
    "import torch.nn.functional as F\n",
    "from sklearn.decomposition import PCA\n",
    "from sklearn.linear_model import LogisticRegressionCV\n",
    "import random\n",
    "random.seed(100)\n",
    "plt.style.use('seaborn')"
   ]
  },
  {
   "cell_type": "code",
   "execution_count": 2,
   "metadata": {
    "colab": {
     "base_uri": "https://localhost:8080/"
    },
    "id": "kav2bomPKL22",
    "outputId": "4630d94f-48fe-4b05-8410-0a4324307171"
   },
   "outputs": [
    {
     "name": "stdout",
     "output_type": "stream",
     "text": [
      "(178, 13)\n",
      "(178, 1)\n",
      "['class_0' 'class_1' 'class_2']\n"
     ]
    }
   ],
   "source": [
    "#load dataset\n",
    "data= load_wine()\n",
    "\n",
    "#create dataframe for features (X) \n",
    "X = pd.DataFrame(data['data'])\n",
    "X.columns = data['feature_names']\n",
    "print(X.shape)\n",
    "\n",
    "#create dataframe for target (y)\n",
    "y = pd.DataFrame(data['target'])\n",
    "print(y.shape)\n",
    "print(data['target_names'])"
   ]
  },
  {
   "cell_type": "markdown",
   "metadata": {
    "id": "yGNstvGrLdz9"
   },
   "source": [
    "#### We will first examine PCA using sklearn's PCA decomposition method. This implementation follows the same structure as other sklearn implementations we have seen thus far. First, we must instantiate a PCA object, then fit it, and then transform data. When instantiating, we must select the number of principal components to use. For illustrative purposes, we will instantiate multiple PCA objects with different numbers of components and evaluate their performance. Since there are 13 features in the dataset, we will perform dimensionality reductions using 11, 9, 7, 5, 3, and 1 components."
   ]
  },
  {
   "cell_type": "code",
   "execution_count": 3,
   "metadata": {
    "id": "rkc4usHpKkIA"
   },
   "outputs": [],
   "source": [
    "#Instantiate PCA objects setting n_components to the number of reduced features\n",
    "PCA_11 = PCA(n_components = 11)\n",
    "PCA_9 = PCA(n_components = 9)\n",
    "PCA_7 = PCA(n_components = 7)\n",
    "PCA_5 = PCA(n_components = 5)\n",
    "PCA_3 = PCA(n_components = 3)\n",
    "PCA_1 = PCA(n_components = 1)\n",
    "\n",
    "#list of objects\n",
    "pca_objects = [PCA_11, PCA_9, PCA_7, PCA_5, PCA_3, PCA_1]"
   ]
  },
  {
   "cell_type": "code",
   "execution_count": 5,
   "metadata": {
    "id": "vmaeudJNM2qB"
   },
   "outputs": [
    {
     "name": "stdout",
     "output_type": "stream",
     "text": [
      "              0          1         2         3         4         5         6  \\\n",
      "0    318.562979  21.492131  3.130735 -0.250114  0.677078  0.568081 -0.619642   \n",
      "1    303.097420  -5.364718  6.822835 -0.864035 -0.486096  0.014340  0.108865   \n",
      "2    438.061133  -6.537309 -1.113223  0.912411  0.380651  0.672404  0.785819   \n",
      "3    733.240139   0.192729 -0.917257 -0.541251  0.858662  0.599122  0.018770   \n",
      "4    -11.571428  18.489995 -0.554422  1.360896  0.276442  0.768884 -0.309976   \n",
      "..          ...        ...       ...       ...       ...       ...       ...   \n",
      "173   -6.980211  -4.541137 -2.474707 -3.155920 -2.348927  1.439001 -0.026425   \n",
      "174    3.131605   2.335191 -4.309931 -1.562181 -1.168003  0.128679  0.003859   \n",
      "175   88.458074  18.776285 -2.237577 -4.820708 -1.057336  0.215000  0.648489   \n",
      "176   93.456242  18.670819 -1.788392 -3.709352 -0.276956 -1.009229  0.414948   \n",
      "177 -186.943190  -0.213331 -5.630510 -3.472987  0.007035  0.703636 -0.693761   \n",
      "\n",
      "            7         8  \n",
      "0   -0.199555  0.701280  \n",
      "1    0.604714  0.286717  \n",
      "2   -0.500886  0.024547  \n",
      "3    0.190428  0.054277  \n",
      "4    0.119091 -0.195843  \n",
      "..        ...       ...  \n",
      "173  0.043705  0.040167  \n",
      "174 -0.303185 -0.159759  \n",
      "175  0.068966  0.273675  \n",
      "176 -0.145647  0.254468  \n",
      "177 -0.242247 -0.123226  \n",
      "\n",
      "[178 rows x 9 columns]\n"
     ]
    }
   ],
   "source": [
    "# Fit objects on data and transform into dimensionally reduced feature set\n",
    "X_11 = pd.DataFrame(PCA_11.fit_transform(X))\n",
    "X_9 = pd.DataFrame(PCA_9.fit_transform(X))\n",
    "X_7 = pd.DataFrame(PCA_7.fit_transform(X))\n",
    "X_5 = pd.DataFrame(PCA_5.fit_transform(X))\n",
    "X_3 = pd.DataFrame(PCA_3.fit_transform(X))\n",
    "X_1 = pd.DataFrame(PCA_1.fit_transform(X))\n",
    "\n",
    "#list of datasets (including original)\n",
    "datasets = [X, X_11, X_9, X_7, X_5, X_3, X_1]\n",
    "print(X_9)"
   ]
  },
  {
   "cell_type": "markdown",
   "metadata": {
    "id": "LJYCUVYsN29-"
   },
   "source": [
    "#### Inevitably, when you reduce the dimensionality of your data, you lose some information. As a measure of information retention, we consider the PCA model's explained variance attribute, which tells us how much variance (information) is retained post-transformation."
   ]
  },
  {
   "cell_type": "code",
   "execution_count": 29,
   "metadata": {
    "colab": {
     "base_uri": "https://localhost:8080/"
    },
    "id": "JCz3E2l8NYvf",
    "outputId": "c5fda392-7f3a-4919-f049-1321f6da98c3"
   },
   "outputs": [
    {
     "name": "stdout",
     "output_type": "stream",
     "text": [
      "0.9999997054469665\n",
      "0.9999986059708891\n",
      "0.9999959550599171\n",
      "0.9999846861150248\n",
      "0.9999221050741547\n",
      "0.9980912304918974\n",
      "sklearn: 0.22.2.post1\n"
     ]
    }
   ],
   "source": [
    "#sum the explained_varience_ratio across all principal components\n",
    "for i in pca_objects:\n",
    "  print(i.explained_variance_ratio_.sum())\n",
    "\n",
    "print('sklearn: %s' % __version__)"
   ]
  },
  {
   "cell_type": "markdown",
   "metadata": {
    "id": "VSUtwJfbPU9V"
   },
   "source": [
    "#### Did you notice something interesting? The variance barely reduces even when we have one principal component... why is this? We can perform a granular analysis exploring the amount of variance explained by each individual principal component to examine further. Let's consider the example with 11 principal components.\n"
   ]
  },
  {
   "cell_type": "code",
   "execution_count": 30,
   "metadata": {
    "colab": {
     "base_uri": "https://localhost:8080/"
    },
    "id": "BosEPnMuPJwm",
    "outputId": "abc145b7-35c7-47ed-85b6-649ae37033f5"
   },
   "outputs": [
    {
     "name": "stdout",
     "output_type": "stream",
     "text": [
      "           Explained_var\n",
      "Component               \n",
      "1               0.998091\n",
      "2               0.001736\n",
      "3               0.000095\n",
      "4               0.000050\n",
      "5               0.000012\n",
      "6               0.000008\n",
      "7               0.000003\n",
      "8               0.000002\n",
      "9               0.000001\n",
      "10              0.000001\n",
      "11              0.000000\n"
     ]
    }
   ],
   "source": [
    "print(pd.DataFrame({'Component':[i for i in range(1,12)], 'Explained_var': PCA_11.explained_variance_ratio_.round(6)}).set_index('Component'))"
   ]
  },
  {
   "cell_type": "markdown",
   "metadata": {
    "id": "FD4SwZ1lRyHp"
   },
   "source": [
    "#### As we can see, the first component explains 0.998091 of the information. As we reduce the number of components, a portion of the information is lost until we have a single component left. Let's try predicting with the original feature set and the transformed feature sets."
   ]
  },
  {
   "cell_type": "code",
   "execution_count": 31,
   "metadata": {
    "id": "OpPpLRxeQrHb"
   },
   "outputs": [],
   "source": [
    "# split data by index into training and test sets following 80/20 scheme\n",
    "\n",
    "n_train = round(0.8*y.shape[0])\n",
    "indices = [i for i in range (y.shape[0])]\n",
    "ind_train = random.sample(indices, n_train)\n",
    "\n",
    "training = []\n",
    "testing = []\n",
    "\n",
    "for i in range(len(datasets)):\n",
    "  training.append(datasets[i].iloc[ind_train, :])\n",
    "  testing.append(datasets[i].drop(ind_train))\n",
    "\n",
    "# split target into training and testing \n",
    "\n",
    "y_train = y.iloc[ind_train]\n",
    "y_test = y.drop(ind_train)"
   ]
  },
  {
   "cell_type": "code",
   "execution_count": 32,
   "metadata": {
    "id": "Y2pL0Yb6TFVn"
   },
   "outputs": [],
   "source": [
    "#instantiate models in a list\n",
    "\n",
    "models = [LogisticRegressionCV(cv =5, max_iter = 1000000, multi_class='auto') for i in range (7)]\n"
   ]
  },
  {
   "cell_type": "code",
   "execution_count": 33,
   "metadata": {
    "id": "FOvRw_5HVXdW"
   },
   "outputs": [],
   "source": [
    "#train models and predict on features\n",
    "scores = []\n",
    "for i in range(len(models)):\n",
    "  scores.append(models[i].fit(training[i], y_train.values.ravel()).score(testing[i],y_test.values.ravel()))"
   ]
  },
  {
   "cell_type": "code",
   "execution_count": 34,
   "metadata": {
    "colab": {
     "base_uri": "https://localhost:8080/",
     "height": 376
    },
    "id": "aTfRYcsdYZmm",
    "outputId": "675e05fb-79b7-47d0-e16d-f2dd22bc3e36"
   },
   "outputs": [
    {
     "data": {
      "image/png": "[encoded data removed]",
      "text/plain": [
       "<Figure size 576x396 with 1 Axes>"
      ]
     },
     "metadata": {
      "tags": []
     },
     "output_type": "display_data"
    }
   ],
   "source": [
    "#plot the results of the scoring\n",
    "plt.scatter([i for i in range(13,0,-2)], scores)\n",
    "plt.xlabel('Number of Components')\n",
    "plt.ylabel('Score')\n",
    "plt.title('Number of Components vs. Predictive Score')\n",
    "plt.show()"
   ]
  },
  {
   "cell_type": "markdown",
   "metadata": {
    "id": "GJPoJKgwawXH"
   },
   "source": [
    "#### Let's now perform dimensionality reduction using an autoencoder, which is a type of neural network that has the same input as it does output. The hidden layer contains hidden units less equal to the number of dimensionally reduced features. In these experiments, we will evaluate our model's effectiveness a bit differently. We will consider the reconstruction error, which compares the reconstructed features to the original features. We will scale our features as a data preparation stage."
   ]
  },
  {
   "cell_type": "code",
   "execution_count": 35,
   "metadata": {
    "id": "JotjzP01atzU"
   },
   "outputs": [],
   "source": [
    "scaler = StandardScaler()\n",
    "X_scaled = scaler.fit_transform(X)\n",
    "X_scaled = X_scaled.astype(np.float32)"
   ]
  },
  {
   "cell_type": "markdown",
   "metadata": {
    "id": "BZ9QXd-Kb7Sn"
   },
   "source": [
    "#### Next we will create our first autoencoder reducing the features to 11. For this, we will create the two parts of the autoencoder:\n",
    "\n",
    "- The Encoder, that takes the data and compress it to a lower dimension and...\n",
    "- The Decoder, that takes the compressed data and restores it to its original form.\n",
    "\n",
    "\n",
    "The number of layers in the encoder and decoder layers are defined by the user, so they can become fairly complex. In this example we will make a very simple architecture:\n",
    "\n",
    "- A linear layer that takes the encoder and reduces it to 11 features using tangent activation. This will be the encoder.\n",
    "- A decoding layer to increase the data back to 13 layers with linear transform.\n",
    "\n",
    "The code is as follows:"
   ]
  },
  {
   "cell_type": "code",
   "execution_count": 36,
   "metadata": {
    "colab": {
     "base_uri": "https://localhost:8080/"
    },
    "id": "VGrjcG3Pb6s0",
    "outputId": "b780db11-623b-40f9-8e0d-0ccbf6284778"
   },
   "outputs": [
    {
     "name": "stdout",
     "output_type": "stream",
     "text": [
      "999 0.05006270855665207\n",
      "1999 0.03152052313089371\n",
      "2999 0.02750120498239994\n",
      "3999 0.02525080181658268\n",
      "4999 0.023685233667492867\n"
     ]
    }
   ],
   "source": [
    "class autoencoder(nn.Module):\n",
    "    def __init__(self):\n",
    "        super(autoencoder, self).__init__()\n",
    "        self.encoder = nn.Sequential(\n",
    "            nn.Linear(13,11),\n",
    "            nn.Hardtanh(),\n",
    "            )\n",
    "        self.decoder = nn.Sequential(\n",
    "            nn.Linear(11,13)\n",
    "            )\n",
    "\n",
    "    def forward(self, x):\n",
    "        x = self.encoder(x)\n",
    "        x = self.decoder(x)\n",
    "        return x\n",
    "\n",
    "#build model\n",
    "auto_enc_11 = autoencoder()\n",
    "\n",
    "#define loss function\n",
    "loss_fn = torch.nn.MSELoss()\n",
    "\n",
    "#define learning rate\n",
    "learning_rate = 1e-1\n",
    "\n",
    "#convert dataset to tensors\n",
    "X_scaled = torch.from_numpy(X_scaled)\n",
    "#train model\n",
    "for t in range (5000):\n",
    "  y_pred = auto_enc_11(X_scaled)\n",
    "  loss = loss_fn(y_pred, X_scaled)\n",
    "  if t % 1000 == 999:\n",
    "        print(t, loss.item())\n",
    "  auto_enc_11.zero_grad()\n",
    "  loss.backward()\n",
    "  with torch.no_grad():\n",
    "        for param in auto_enc_11.parameters():\n",
    "            param -= learning_rate * param.grad "
   ]
  },
  {
   "cell_type": "markdown",
   "metadata": {
    "id": "XAzCyhFbTRb4"
   },
   "source": [
    "#### In practice, we would consider the encoder (input + hidden layer) and the decoder (hidden + output) layer by extracting them from the trained model. In this example, we will transform the data and plot a distribution of the reconstruction error."
   ]
  },
  {
   "cell_type": "code",
   "execution_count": 37,
   "metadata": {
    "id": "jHoc9b3QTQ4-"
   },
   "outputs": [],
   "source": [
    "#pass scaled data to the autoencoder\n",
    "X_reconstructed = auto_enc_11(X_scaled)"
   ]
  },
  {
   "cell_type": "code",
   "execution_count": 38,
   "metadata": {
    "colab": {
     "base_uri": "https://localhost:8080/",
     "height": 452
    },
    "id": "rXMGSkexffOy",
    "outputId": "44e53a22-ded1-4073-f30d-572a6487ec2c"
   },
   "outputs": [
    {
     "name": "stderr",
     "output_type": "stream",
     "text": [
      "/usr/local/lib/python3.7/dist-packages/seaborn/distributions.py:2557: FutureWarning: `distplot` is a deprecated function and will be removed in a future version. Please adapt your code to use either `displot` (a figure-level function with similar flexibility) or `histplot` (an axes-level function for histograms).\n",
      "  warnings.warn(msg, FutureWarning)\n"
     ]
    },
    {
     "data": {
      "text/plain": [
       "Text(0.5, 1.0, 'Reconstruction Error Distribution for Autoencoder')"
      ]
     },
     "execution_count": 38,
     "metadata": {
      "tags": []
     },
     "output_type": "execute_result"
    },
    {
     "data": {
      "image/png": "[encoded data removed]",
      "text/plain": [
       "<Figure size 576x396 with 1 Axes>"
      ]
     },
     "metadata": {
      "tags": []
     },
     "output_type": "display_data"
    }
   ],
   "source": [
    "#plot the distribution of the reconstruction error\n",
    "sns.distplot(X_scaled - X_reconstructed.detach().numpy())\n",
    "plt.xlabel(\"Reconstruction Error\")\n",
    "plt.title(\"Reconstruction Error Distribution for Autoencoder\")"
   ]
  },
  {
   "cell_type": "markdown",
   "metadata": {
    "id": "pHGuXF1H2pmO"
   },
   "source": [
    "If you want to use the encoded sections, you can simply call the `.encoder(data)` method that will return the encoded section of the autoencoder. The following code returns the compressed encoded training data in numpy format."
   ]
  },
  {
   "cell_type": "code",
   "execution_count": 44,
   "metadata": {
    "colab": {
     "base_uri": "https://localhost:8080/"
    },
    "id": "sypleI8L2ox0",
    "outputId": "2d80441a-ccaf-44f4-8734-c26d4432de68"
   },
   "outputs": [
    {
     "data": {
      "text/plain": [
       "array([[ 0.28658402,  0.30370757, -0.46649587, ...,  0.59780174,\n",
       "         0.30343676,  0.4326211 ],\n",
       "       [ 0.38052204,  0.3609756 , -0.72055155, ..., -0.27226916,\n",
       "         0.52317506,  0.40242508],\n",
       "       [ 0.5687936 , -0.00612221, -0.89728606, ...,  0.78766316,\n",
       "         0.04551781, -0.20049387],\n",
       "       ...,\n",
       "       [ 0.29057002,  0.5426839 ,  0.82326746, ...,  0.36742193,\n",
       "         0.35832518,  0.75117654],\n",
       "       [ 0.6888843 ,  0.6609665 ,  0.99880975, ...,  0.28834796,\n",
       "        -0.19035465,  0.51122606],\n",
       "       [-0.40389755,  0.05579337,  0.91501707, ...,  0.7517974 ,\n",
       "        -0.3952077 ,  0.91289115]], dtype=float32)"
      ]
     },
     "execution_count": 44,
     "metadata": {
      "tags": []
     },
     "output_type": "execute_result"
    }
   ],
   "source": [
    "auto_enc_11.encoder(X_scaled).detach().numpy()"
   ]
  },
  {
   "cell_type": "markdown",
   "metadata": {
    "id": "0kiapDZl3Sw7"
   },
   "source": [
    "That's it! You now have an autoencoder that reduces from 13 variables back to 11. Of course, you can be much more aggressive than that in your compression strategies."
   ]
  },
  {
   "cell_type": "markdown",
   "metadata": {
    "id": "ytQM4sJTU8EU"
   },
   "source": [
    "Remember, as with any neural network model, the parameters need to be tuned to improve performance. As an exercise, try improving the performance of this model by reducing the reconstruction error. You may consider changing activation functions, learning rates, etc. If you are feeling ambitious, consider creating a stacked autoencoder (you will need to look this up) and see how it performs. Additionally, you could try implementing additional autoencoders to reduce the features even further as we did with the PCA. The best way to get familiar with neural networks is to practice!"
   ]
  }
 ],
 "metadata": {
  "colab": {
   "name": "Lab.10.2.ipynb",
   "provenance": []
  },
  "kernelspec": {
   "display_name": "Python 3",
   "language": "python",
   "name": "python3"
  },
  "language_info": {
   "codemirror_mode": {
    "name": "ipython",
    "version": 3
   },
   "file_extension": ".py",
   "mimetype": "text/x-python",
   "name": "python",
   "nbconvert_exporter": "python",
   "pygments_lexer": "ipython3",
   "version": "3.8.5"
  }
 },
 "nbformat": 4,
 "nbformat_minor": 1
}
